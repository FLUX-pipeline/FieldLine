{
 "cells": [
  {
   "cell_type": "markdown",
   "id": "12700436-6fd0-48f7-aa30-e4c9b5399a62",
   "metadata": {},
   "source": [
    "# Annotation of artefacts"
   ]
  },
  {
   "cell_type": "markdown",
   "id": "75f68cdf-d5ab-49e0-942e-6ac74c4cae99",
   "metadata": {},
   "source": [
    "\n",
    "#### Introduction\n",
    "\n",
    "We will show here how artefacts can be identified and then annotated. The annotations will be represented in the FIF data file. Sections or trials will not be rejected at this stage; rather the annotations may be used later. For instance, they can be used to reject trials with eyeblinks or muscle contractions depending on their relevance for the analysis.\n"
   ]
  },
  {
   "cell_type": "markdown",
   "id": "b5ba44ee-d147-4973-b3d2-1476ac7820fd",
   "metadata": {},
   "source": [
    "#### Import the necessary modules\n",
    "\n",
    "Below are the required Python modules to be imported\n"
   ]
  },
  {
   "cell_type": "code",
   "execution_count": 11,
   "id": "2d46669f-5f2f-461d-868d-e06c46c3fe29",
   "metadata": {},
   "outputs": [],
   "source": [
    "import mne\n",
    "import os\n",
    "import matplotlib\n",
    "import numpy as np\n",
    "import pandas as pd\n",
    "import matplotlib.pyplot as plt\n",
    "from scipy import signal\n",
    "import array\n",
    "from pprint import pprint\n",
    "import json\n",
    "import os.path as op\n",
    "from mne_bids import (\n",
    "    BIDSPath,\n",
    "    make_dataset_description,\n",
    "    print_dir_tree,\n",
    "    read_raw_bids,\n",
    "    write_meg_calibration,\n",
    "    write_meg_crosstalk,\n",
    "    write_raw_bids,\n",
    ")\n",
    "from mne_bids.stats import count_events\n",
    "from mne.preprocessing import annotate_muscle_zscore"
   ]
  },
  {
   "cell_type": "markdown",
   "id": "eb210b21-fe46-4ec1-a557-0b640228c902",
   "metadata": {},
   "source": [
    "\n",
    "#### File overview\n",
    "\n",
    "#### The chapter relies on the input files (embedded in the BIDS structure):\n",
    "\n",
    "< BIDS_ROOT >/derivatives/Preprocessing/sub-01/ses-01/meg/sub-01_ses-01_task-SpAtt_run-01_raw_hfc.fif\n",
    "\n",
    "\n",
    "#### and generates the output files:\n",
    "\n",
    "< BIDS_ROOT >/derivatives/Preprocessing/sub-01/ses-01/meg/sub-01_ses-01_task-SpAtt_run-01_ann.fif\n",
    "\n",
    "< BIDS_ROOT >/derivatives/Preprocessing/sub-01/ses-01/meg/sub-01_ses-01_task-SpAtt_run-01_ann.csv\n",
    "\n",
    "#### Set the path and load the FIF-files:\n"
   ]
  },
  {
   "cell_type": "code",
   "execution_count": 2,
   "id": "3cc81318-e29c-4362-98fc-25fec9852987",
   "metadata": {},
   "outputs": [
    {
     "name": "stdout",
     "output_type": "stream",
     "text": [
      "/home/rakshita/rds_folders/Sproject3/Emptyroom/Recordings/BIDSRec_main/derivatives/preprocessing/sub-01/ses-01/meg/sub-01_ses-01_task-SpAtt_run-01_raw_hfc.fif\n",
      "/home/rakshita/rds_folders/Sproject3/Emptyroom/Recordings/BIDSRec_main/derivatives/preprocessing/sub-01/ses-01/meg/sub-01_ses-01_task-SpAtt_run-01_ann.fif\n",
      "/home/rakshita/rds_folders/Sproject3/Emptyroom/Recordings/BIDSRec_main/derivatives/preprocessing/sub-01/ses-01/meg/sub-01_ses-01_task-SpAtt_run-01_ann.csv\n"
     ]
    }
   ],
   "source": [
    "subject = '01'\n",
    "session = '01'\n",
    "task = 'SpAtt'\n",
    "run = '01'\n",
    "meg_suffix = 'meg'\n",
    "hfc_suffix = 'raw_hfc'\n",
    "ann_suffix = 'ann'\n",
    "\n",
    "data_path='/home/rakshita/rds_folders/Sproject3/OPM_data'\n",
    "deriv_root = op.join(data_path, \"Sub1_BIDS/derivatives/preprocessing\")\n",
    "\n",
    "bids_path = BIDSPath(subject=subject, session=session, datatype='meg',\n",
    "            task=task, run=run, suffix=hfc_suffix, \n",
    "            root=deriv_root, extension='.fif', check=False)\n",
    "\n",
    "deriv_fname_fif = bids_path.basename.replace(hfc_suffix, ann_suffix) # fif output filename\n",
    "deriv_fname_fif_1 = op.join(bids_path.directory, deriv_fname_fif)\n",
    "deriv_fname_csv_1 = deriv_fname_fif_1.replace('fif', 'csv') # csv output filename\n",
    "\n",
    "print(bids_path)\n",
    "print(deriv_fname_fif_1)\n",
    "print(deriv_fname_csv_1)"
   ]
  },
  {
   "cell_type": "markdown",
   "id": "a1d44490-b55e-499d-8f4d-3305b210fb97",
   "metadata": {},
   "source": [
    "#### Read the raw data"
   ]
  },
  {
   "cell_type": "code",
   "execution_count": 5,
   "id": "f72879bc-aeda-4812-a882-a91cf042168f",
   "metadata": {},
   "outputs": [
    {
     "name": "stdout",
     "output_type": "stream",
     "text": [
      "Opening raw data file /home/rakshita/rds_folders/Sproject3/Emptyroom/Recordings/BIDSRec_main/derivatives/preprocessing/sub-01/ses-01/meg/sub-01_ses-01_task-SpAtt_run-01_raw_hfc.fif...\n"
     ]
    },
    {
     "name": "stderr",
     "output_type": "stream",
     "text": [
      "/tmp/ipykernel_7233/3557561745.py:1: RuntimeWarning: This filename (/home/rakshita/rds_folders/Sproject3/Emptyroom/Recordings/BIDSRec_main/derivatives/preprocessing/sub-01/ses-01/meg/sub-01_ses-01_task-SpAtt_run-01_raw_hfc.fif) does not conform to MNE naming conventions. All raw files should end with raw.fif, raw_sss.fif, raw_tsss.fif, _meg.fif, _eeg.fif, _ieeg.fif, raw.fif.gz, raw_sss.fif.gz, raw_tsss.fif.gz, _meg.fif.gz, _eeg.fif.gz or _ieeg.fif.gz\n",
      "  raw = read_raw_bids(bids_path=bids_path,\n"
     ]
    },
    {
     "name": "stdout",
     "output_type": "stream",
     "text": [
      "    Read a total of 8 projection items:\n",
      "        HFC: l=1 m=-1 (1 x 68) active\n",
      "        HFC: l=1 m=0 (1 x 68) active\n",
      "        HFC: l=1 m=1 (1 x 68) active\n",
      "        HFC: l=2 m=-2 (1 x 68) active\n",
      "        HFC: l=2 m=-1 (1 x 68) active\n",
      "        HFC: l=2 m=0 (1 x 68) active\n",
      "        HFC: l=2 m=1 (1 x 68) active\n",
      "        HFC: l=2 m=2 (1 x 68) active\n",
      "    Range : 0 ... 2443459 =      0.000 ...  2443.459 secs\n",
      "Ready.\n",
      "Reading 0 ... 2443459  =      0.000 ...  2443.459 secs...\n"
     ]
    },
    {
     "name": "stderr",
     "output_type": "stream",
     "text": [
      "/tmp/ipykernel_7233/3557561745.py:1: RuntimeWarning: Did not find any events.tsv associated with sub-01_ses-01_task-SpAtt_run-01.\n",
      "\n",
      "The search_str was \"/home/rakshita/rds_folders/Sproject3/Emptyroom/Recordings/BIDSRec_main/derivatives/preprocessing/sub-01/**/meg/sub-01_ses-01*events.tsv\"\n",
      "  raw = read_raw_bids(bids_path=bids_path,\n",
      "/tmp/ipykernel_7233/3557561745.py:1: RuntimeWarning: Did not find any channels.tsv associated with sub-01_ses-01_task-SpAtt_run-01.\n",
      "\n",
      "The search_str was \"/home/rakshita/rds_folders/Sproject3/Emptyroom/Recordings/BIDSRec_main/derivatives/preprocessing/sub-01/**/meg/sub-01_ses-01*channels.tsv\"\n",
      "  raw = read_raw_bids(bids_path=bids_path,\n",
      "/tmp/ipykernel_7233/3557561745.py:1: RuntimeWarning: Did not find any meg.json associated with sub-01_ses-01_task-SpAtt_run-01.\n",
      "\n",
      "The search_str was \"/home/rakshita/rds_folders/Sproject3/Emptyroom/Recordings/BIDSRec_main/derivatives/preprocessing/sub-01/**/meg/sub-01_ses-01*meg.json\"\n",
      "  raw = read_raw_bids(bids_path=bids_path,\n",
      "/tmp/ipykernel_7233/3557561745.py:1: RuntimeWarning: participants.tsv file not found for /home/rakshita/rds_folders/Sproject3/Emptyroom/Recordings/BIDSRec_main/derivatives/preprocessing/sub-01/ses-01/meg/sub-01_ses-01_task-SpAtt_run-01_raw_hfc.fif\n",
      "  raw = read_raw_bids(bids_path=bids_path,\n"
     ]
    }
   ],
   "source": [
    "raw = read_raw_bids(bids_path=bids_path, \n",
    "                     extra_params={'preload':True},\n",
    "                     verbose=True)"
   ]
  },
  {
   "cell_type": "markdown",
   "id": "bd219efe-dea8-40ad-8677-e5ba6f86efc1",
   "metadata": {},
   "source": [
    "#### Identifying eye blinks\n",
    "\n",
    "Here we show how the artefacts associated with eye blinks can be marked automatically on the basis of the OPM channel we used to capture eye movements. After bandpass filtering the eye movement between 1 - 10 Hz, the threshold for blink detection is determined according to:\n",
    "\n"
   ]
  },
  {
   "cell_type": "code",
   "execution_count": 7,
   "id": "63088e15-25d8-4db9-9389-882d9ec939d0",
   "metadata": {},
   "outputs": [
    {
     "name": "stdout",
     "output_type": "stream",
     "text": [
      "Using EOG channel: s16_bz\n",
      "EOG channel index for this subject is: [70]\n",
      "Filtering the data to remove DC offset to help distinguish blinks from saccades\n",
      "Selecting channel s16_bz for blink detection\n",
      "Setting up band-pass filter from 1 - 10 Hz\n",
      "\n",
      "FIR filter parameters\n",
      "---------------------\n",
      "Designing a two-pass forward and reverse, zero-phase, non-causal bandpass filter:\n",
      "- Windowed frequency-domain design (firwin2) method\n",
      "- Hann window\n",
      "- Lower passband edge: 1.00\n",
      "- Lower transition bandwidth: 0.50 Hz (-12 dB cutoff frequency: 0.75 Hz)\n",
      "- Upper passband edge: 10.00 Hz\n",
      "- Upper transition bandwidth: 0.50 Hz (-12 dB cutoff frequency: 10.25 Hz)\n",
      "- Filter length: 10000 samples (10.000 s)\n",
      "\n",
      "Now detecting blinks and generating corresponding events\n",
      "Found 8 significant peaks\n",
      "Number of EOG events detected: 8\n"
     ]
    }
   ],
   "source": [
    "eog_events = mne.preprocessing.find_eog_events(raw, ch_name='s16_bz') "
   ]
  },
  {
   "cell_type": "markdown",
   "id": "6f2c4386-0dea-4a06-a9bb-b09b29389111",
   "metadata": {},
   "source": [
    "In total, 8 events were indentified as blinks. In order to write these events on the dataset, we need to create an Annotation object with contains the onset of each blink, their durations and a description (i.e., tag) of the type of event:"
   ]
  },
  {
   "cell_type": "code",
   "execution_count": 9,
   "id": "84ed002d-a576-4736-b661-7e788f98a13b",
   "metadata": {},
   "outputs": [],
   "source": [
    "n_blinks = len(eog_events)\n",
    "onset = eog_events[:, 0] / raw.info['sfreq'] - 0.25\n",
    "duration = np.repeat(0.5, n_blinks)\n",
    "description = ['blink'] * n_blinks\n",
    "orig_time = raw.info['meas_date']\n",
    "annotations_blink = mne.Annotations(onset, duration, description, orig_time)"
   ]
  },
  {
   "cell_type": "markdown",
   "id": "71795818-5d8d-49b5-9eb4-a894c54f0674",
   "metadata": {},
   "source": [
    "\n",
    "### Finding muscle artefacts\n",
    "\n",
    "Muscle artefacts are identified from the magnetometer data filtered in the 110 - 140 Hz range. The data are subsequently z-scored. If they exceed the value threshold_muscle, the corresponding section of data is annotated as muscle artifact. The shortest allowed duration of non-annotated data is 0.2 s; shorter segments will be incorporated into the surrounding annotations.\n"
   ]
  },
  {
   "cell_type": "code",
   "execution_count": 12,
   "id": "cf617fa1-6361-4940-b8bd-2eb70200645c",
   "metadata": {},
   "outputs": [
    {
     "name": "stdout",
     "output_type": "stream",
     "text": [
      "Filtering raw data in 1 contiguous segment\n",
      "Setting up band-pass filter from 1.1e+02 - 1.4e+02 Hz\n",
      "\n",
      "FIR filter parameters\n",
      "---------------------\n",
      "Designing a one-pass, zero-phase, non-causal bandpass filter:\n",
      "- Windowed time-domain design (firwin) method\n",
      "- Hamming window with 0.0194 passband ripple and 53 dB stopband attenuation\n",
      "- Lower passband edge: 110.00\n",
      "- Lower transition bandwidth: 27.50 Hz (-6 dB cutoff frequency: 96.25 Hz)\n",
      "- Upper passband edge: 140.00 Hz\n",
      "- Upper transition bandwidth: 35.00 Hz (-6 dB cutoff frequency: 157.50 Hz)\n",
      "- Filter length: 121 samples (0.121 s)\n",
      "\n"
     ]
    },
    {
     "name": "stderr",
     "output_type": "stream",
     "text": [
      "[Parallel(n_jobs=1)]: Done  17 tasks      | elapsed:    1.1s\n"
     ]
    },
    {
     "name": "stdout",
     "output_type": "stream",
     "text": [
      "Setting up low-pass filter at 4 Hz\n",
      "\n",
      "FIR filter parameters\n",
      "---------------------\n",
      "Designing a one-pass, zero-phase, non-causal lowpass filter:\n",
      "- Windowed time-domain design (firwin) method\n",
      "- Hamming window with 0.0194 passband ripple and 53 dB stopband attenuation\n",
      "- Upper passband edge: 4.00 Hz\n",
      "- Upper transition bandwidth: 2.00 Hz (-6 dB cutoff frequency: 5.00 Hz)\n",
      "- Filter length: 1651 samples (1.651 s)\n",
      "\n"
     ]
    }
   ],
   "source": [
    "threshold_muscle = 10  \n",
    "annotations_muscle, scores_muscle = annotate_muscle_zscore(\n",
    "    raw, ch_type=\"mag\", threshold=threshold_muscle, min_length_good=0.2,\n",
    "    filter_freq=[110, 140])\n"
   ]
  },
  {
   "cell_type": "markdown",
   "id": "c83abe07-694d-46d7-a1b2-21d351570c7c",
   "metadata": {},
   "source": [
    "To check whether the threshold used for the muscle annotation is good for the current data, we plot the z-scores across the recording. The threshold is indicated by a red line."
   ]
  },
  {
   "cell_type": "code",
   "execution_count": 14,
   "id": "cc47a6d5-0872-4801-b647-e28ac88ef3b3",
   "metadata": {},
   "outputs": [
    {
     "data": {
      "text/plain": [
       "[Text(0.5, 0, 'time, (s)'),\n",
       " Text(0, 0.5, 'zscore'),\n",
       " Text(0.5, 1.0, 'Muscle activity (threshold = 10)')]"
      ]
     },
     "execution_count": 14,
     "metadata": {},
     "output_type": "execute_result"
    },
    {
     "data": {
      "image/png": "[encoded data removed]",
      "text/plain": [
       "<Figure size 640x480 with 1 Axes>"
      ]
     },
     "metadata": {},
     "output_type": "display_data"
    }
   ],
   "source": [
    "%matplotlib inline\n",
    "fig1, ax = plt.subplots()\n",
    "ax.plot(raw.times, scores_muscle);\n",
    "ax.axhline(y=threshold_muscle, color='r')\n",
    "ax.set(xlabel='time, (s)', ylabel='zscore', title='Muscle activity (threshold = %s)' % threshold_muscle)"
   ]
  },
  {
   "cell_type": "markdown",
   "id": "891719c9-868d-470c-b1c4-d0e17c1b3a1c",
   "metadata": {},
   "source": [
    "### Include annotations in dataset and inspect"
   ]
  },
  {
   "cell_type": "markdown",
   "id": "eacf9158-6a4c-413f-bea5-055cbce17593",
   "metadata": {},
   "source": [
    "Now mark all the annotations in the data set.\n",
    "\n",
    "Calling set_annotations() replaces any annotations currently stored in the Raw object. To prevent that, we first extract their annotations and then combine them together with the blink and muscle annotations."
   ]
  },
  {
   "cell_type": "code",
   "execution_count": 15,
   "id": "6683a860-2bed-447c-986e-ca692dfdfd65",
   "metadata": {},
   "outputs": [
    {
     "data": {
      "text/html": [
       "<details open>\n",
       "    <summary><strong>General</strong></summary>\n",
       "    <table class=\"table table-hover table-striped table-sm table-responsive small\">\n",
       "        <tr>\n",
       "            <th>Measurement date</th>\n",
       "            \n",
       "            <td>June 23, 1997  16:12:26 GMT</td>\n",
       "            \n",
       "        </tr>\n",
       "        <tr>\n",
       "            <th>Experimenter</th>\n",
       "            \n",
       "            <td>mne_anonymize</td>\n",
       "            \n",
       "        </tr>\n",
       "        <tr>\n",
       "            <th>Participant</th>\n",
       "            \n",
       "            \n",
       "            \n",
       "        </tr>\n",
       "    </table>\n",
       "    </details>\n",
       "    <details open>\n",
       "        <summary><strong>Channels</strong></summary>\n",
       "        <table class=\"table table-hover table-striped table-sm table-responsive small\">\n",
       "            <tr>\n",
       "                <th>Digitized points</th>\n",
       "                \n",
       "                <td>6 points</td>\n",
       "                \n",
       "            </tr>\n",
       "            <tr>\n",
       "                <th>Good channels</th>\n",
       "                <td>68 Magnetometers, 1 Stimulus</td>\n",
       "            </tr>\n",
       "            <tr>\n",
       "                <th>Bad channels</th>\n",
       "                <td>R106_bz-s3, s16_bz</td>\n",
       "            </tr>\n",
       "            <tr>\n",
       "                <th>EOG channels</th>\n",
       "                <td>Not available</td>\n",
       "            </tr>\n",
       "            <tr>\n",
       "                <th>ECG channels</th>\n",
       "                <td>Not available</td>\n",
       "            </tr>\n",
       "        </table>\n",
       "        </details>\n",
       "        <details open>\n",
       "            <summary><strong>Data</strong></summary>\n",
       "            <table class=\"table table-hover table-striped table-sm table-responsive small\">\n",
       "                \n",
       "                <tr>\n",
       "                    <th>Sampling frequency</th>\n",
       "                    <td>1000.00 Hz</td>\n",
       "                </tr>\n",
       "                \n",
       "                \n",
       "                <tr>\n",
       "                    <th>Highpass</th>\n",
       "                    <td>1.00 Hz</td>\n",
       "                </tr>\n",
       "                \n",
       "                \n",
       "                <tr>\n",
       "                    <th>Lowpass</th>\n",
       "                    <td>120.00 Hz</td>\n",
       "                </tr>\n",
       "                \n",
       "                \n",
       "                <tr>\n",
       "                    <th>Projections</th>\n",
       "                    <td>HFC: l=1 m=-1 : on<br />HFC: l=1 m=0 : on<br />HFC: l=1 m=1 : on<br />HFC: l=2 m=-2 : on<br />HFC: l=2 m=-1 : on<br />HFC: l=2 m=0 : on<br />HFC: l=2 m=1 : on<br />HFC: l=2 m=2 : on</td>\n",
       "                </tr>\n",
       "                \n",
       "                \n",
       "                <tr>\n",
       "                    <th>Filenames</th>\n",
       "                    <td>sub-01_ses-01_task-SpAtt_run-01_raw_hfc.fif</td>\n",
       "                </tr>\n",
       "                \n",
       "                \n",
       "                <tr>\n",
       "                    <th>Duration</th>\n",
       "                    <td>00:40:44 (HH:MM:SS)</td>\n",
       "                </tr>\n",
       "                \n",
       "            </table>\n",
       "            </details>"
      ],
      "text/plain": [
       "<Raw | sub-01_ses-01_task-SpAtt_run-01_raw_hfc.fif, 71 x 2443460 (2443.5 s), ~1.29 GB, data loaded>"
      ]
     },
     "execution_count": 15,
     "metadata": {},
     "output_type": "execute_result"
    }
   ],
   "source": [
    "annotations_event = raw.annotations \n",
    "raw.set_annotations(annotations_event + annotations_blink + annotations_muscle)\n"
   ]
  },
  {
   "cell_type": "code",
   "execution_count": 16,
   "id": "4c80f083-6e04-4ec4-93b3-b4aa95f40ebd",
   "metadata": {},
   "outputs": [
    {
     "name": "stdout",
     "output_type": "stream",
     "text": [
      "Using qt as 2D backend.\n"
     ]
    },
    {
     "name": "stderr",
     "output_type": "stream",
     "text": [
      "Warning: Ignoring XDG_SESSION_TYPE=wayland on Gnome. Use QT_QPA_PLATFORM=wayland to run on Wayland anyway.\n"
     ]
    },
    {
     "data": {
      "text/plain": [
       "<mne_qt_browser._pg_figure.MNEQtBrowser at 0x74f128b98e60>"
      ]
     },
     "execution_count": 16,
     "metadata": {},
     "output_type": "execute_result"
    },
    {
     "name": "stdout",
     "output_type": "stream",
     "text": [
      "Channels marked as bad:\n",
      "['R106_bz-s3', 's16_bz']\n"
     ]
    }
   ],
   "source": [
    "%matplotlib inline\n",
    "raw.plot(start=50)"
   ]
  },
  {
   "cell_type": "markdown",
   "id": "0f3f4773-490d-43a2-b814-5a88388f255b",
   "metadata": {},
   "source": [
    "### Save the artefact annotations\n",
    "\n",
    "Save the annotations in a file to be used in the subsequent sections:"
   ]
  },
  {
   "cell_type": "code",
   "execution_count": 17,
   "id": "0f4fa877-28ef-4035-a70f-ea6a7bc6c428",
   "metadata": {},
   "outputs": [
    {
     "name": "stdout",
     "output_type": "stream",
     "text": [
      "Writing /home/rakshita/rds_folders/Sproject3/Emptyroom/Recordings/BIDSRec_main/derivatives/preprocessing/sub-01/ses-01/meg/sub-01_ses-01_task-SpAtt_run-01_ann.fif\n"
     ]
    },
    {
     "name": "stderr",
     "output_type": "stream",
     "text": [
      "/tmp/ipykernel_7233/3702277048.py:1: RuntimeWarning: This filename (/home/rakshita/rds_folders/Sproject3/Emptyroom/Recordings/BIDSRec_main/derivatives/preprocessing/sub-01/ses-01/meg/sub-01_ses-01_task-SpAtt_run-01_ann.fif) does not conform to MNE naming conventions. All raw files should end with raw.fif, raw_sss.fif, raw_tsss.fif, _meg.fif, _eeg.fif, _ieeg.fif, raw.fif.gz, raw_sss.fif.gz, raw_tsss.fif.gz, _meg.fif.gz, _eeg.fif.gz or _ieeg.fif.gz\n",
      "  raw.save(deriv_fname_fif_1, overwrite=True)\n"
     ]
    },
    {
     "name": "stdout",
     "output_type": "stream",
     "text": [
      "Closing /home/rakshita/rds_folders/Sproject3/Emptyroom/Recordings/BIDSRec_main/derivatives/preprocessing/sub-01/ses-01/meg/sub-01_ses-01_task-SpAtt_run-01_ann.fif\n",
      "[done]\n"
     ]
    }
   ],
   "source": [
    "raw.save(deriv_fname_fif_1, overwrite=True)\n",
    "raw.annotations.save(deriv_fname_csv_1, overwrite=True)"
   ]
  },
  {
   "cell_type": "markdown",
   "id": "807acd20-f86f-47a7-9592-155ce9e5e669",
   "metadata": {},
   "source": [
    "### References"
   ]
  },
  {
   "cell_type": "markdown",
   "id": "74f9a523-dd96-481d-b1a7-2648825d8971",
   "metadata": {},
   "source": [
    "Muthukumaraswamy, S. (2013). High-frequency brain activity and muscle artifacts in MEG/EEG: a review and recommendations. Frontiers in Human Neuroscience, 7:138\n",
    "\n",
    "Hu Y, Yin C, Zhang J, Wang Y. (2018) Partial Least Square Aided Beamforming Algorithm in Magnetoencephalography Source Imaging. Front Neurosci. 12:616"
   ]
  }
 ],
 "metadata": {
  "kernelspec": {
   "display_name": "Python 3 (ipykernel)",
   "language": "python",
   "name": "python3"
  },
  "language_info": {
   "codemirror_mode": {
    "name": "ipython",
    "version": 3
   },
   "file_extension": ".py",
   "mimetype": "text/x-python",
   "name": "python",
   "nbconvert_exporter": "python",
   "pygments_lexer": "ipython3",
   "version": "3.12.4"
  }
 },
 "nbformat": 4,
 "nbformat_minor": 5
}
