{
 "cells": [
  {
   "cell_type": "markdown",
   "id": "7d87e7ed-e852-4645-86f7-b82ccd69bf5e",
   "metadata": {},
   "source": [
    "# Downsampling and BIDS conversion\n",
    "\n",
    "## Introduction\n",
    "\n",
    "In this section we will demonstrate how to prepare the data for further analysis. As the FieldLine data are sampled at 5000 Hz the first step is to downsample to 1000 Hz. Subsequenctly we will convert the data to MEG BIDS (Niso et al., 2018). BIDS (Brain Imaging Data Structure) is a standardised format for organising and describing neuroimaging datasets. It ensures that the meta data are present and that the file structure is consistent over data sets. \n",
    "\n",
    "## Preparation\n",
    "\n",
    "Import the required modules:"
   ]
  },
  {
   "cell_type": "code",
   "execution_count": 1,
   "id": "77d672a5-6bac-4781-ac0a-cb5a0345112c",
   "metadata": {},
   "outputs": [],
   "source": [
    "import os\n",
    "\n",
    "import numpy as np\n",
    "import pandas as pd\n",
    "\n",
    "import mne\n",
    "from mne_bids import (\n",
    "    BIDSPath,\n",
    "    make_dataset_description,\n",
    "    print_dir_tree,\n",
    "    read_raw_bids,\n",
    "    write_meg_calibration,\n",
    "    write_meg_crosstalk,\n",
    "    write_raw_bids,\n",
    ")"
   ]
  },
  {
   "cell_type": "markdown",
   "id": "8946c8be",
   "metadata": {},
   "source": [
    "### File overview\n",
    "\n",
    "The chapter relies on the input files:\n",
    "~~~\n",
    "<ROOT>/Main.fif\n",
    "~~~ \n",
    "and generate the out files:\n",
    "~~~\n",
    "<ROOT>/Main_fs.fif\n",
    "<ROOT>/Main_event.fif\n",
    "\n",
    "<ROOT/Sub3_BIDS/participants.json\n",
    "<ROOT/Sub3_BIDS/participants.tsv\n",
    "<ROOT/Sub3_BIDS/sub-01/ses-01/sub-01_ses-01_scans.tsv\n",
    "<ROOT/Sub3_BIDS/dataset_description.json\n",
    "<ROOT/Sub3_BIDS/sub-01/ses-01/meg/sub-01_ses-01_coordsystem.json\n",
    "<ROOT/Sub3_BIDS/ses-01/meg/sub-01_ses-01_task-SpAtt_run-1_channels.tsv\n",
    "<ROOT/Sub3_BIDS/ses-01/meg/sub-01_ses-01_task-SpAtt_run-1_events.json\n",
    "<ROOT/Sub3_BIDS/meg/sub-01_ses-01_task-SpAtt_run-1_events.tsv\n",
    "<ROOT/Sub3_BIDS/meg/sub-01_ses-01_task-SpAtt_run-1_meg.fif\n",
    "<ROOT/Sub3_BIDS/sub-01_ses-01_task-SpAtt_run-1_meg.json\n",
    "~~~"
   ]
  },
  {
   "cell_type": "markdown",
   "id": "28dbcfb9-27d2-4cd6-a57b-219e9b6bc393",
   "metadata": {},
   "source": [
    "### Loading the data\n",
    "\n",
    "The FieldLine data are stored in FIF format which is a binary file structure with embedded lables.\n",
    "\n",
    "As a first step we will load the data. Make sure the data_data path is set to where the data are stored. We will also define the name of the resampled data with 'rs' added to the filename ( <a>  *_rs.fif  </a>).\n"
   ]
  },
  {
   "cell_type": "code",
   "execution_count": 2,
   "id": "6ed39f27-c5ad-41ca-bd82-d1e3e4dfe7ad",
   "metadata": {},
   "outputs": [
    {
     "name": "stdout",
     "output_type": "stream",
     "text": [
      "Opening raw data file /home/rakshita/rds_folders/Sproject3/OPM_data/Raw_Sub3/Main.fif...\n"
     ]
    },
    {
     "name": "stderr",
     "output_type": "stream",
     "text": [
      "/tmp/ipykernel_39257/2542081543.py:5: RuntimeWarning: This filename (/home/rakshita/rds_folders/Sproject3/OPM_data/Raw_Sub3/Main.fif) does not conform to MNE naming conventions. All raw files should end with raw.fif, raw_sss.fif, raw_tsss.fif, _meg.fif, _eeg.fif, _ieeg.fif, raw.fif.gz, raw_sss.fif.gz, raw_tsss.fif.gz, _meg.fif.gz, _eeg.fif.gz or _ieeg.fif.gz\n",
      "  raw = mne.io.read_raw_fif(raw_fname, preload=True)\n"
     ]
    },
    {
     "name": "stdout",
     "output_type": "stream",
     "text": [
      "    Range : 0 ... 8861899 =      0.000 ...  1772.380 secs\n",
      "Ready.\n",
      "Reading 0 ... 8861899  =      0.000 ...  1772.380 secs...\n"
     ]
    }
   ],
   "source": [
    "data_path = '/home/rakshita/rds_folders/Sproject3/OPM_data/Raw_Sub3'\n",
    "file_name = 'Main.fif'\n",
    "raw_fname = os.path.join(data_path, file_name)\n",
    "\n",
    "raw = mne.io.read_raw_fif(raw_fname, preload=True)\n",
    "raw_resampled_fname = raw_fname.replace('.fif', f'_rs.fif')\n",
    "\n",
    "event_fname = raw_fname.replace('.fif', f'_event.fif')\n",
    "\n",
    "bids_folder = os.path.join(data_path, \"Sub3_BIDS\")"
   ]
  },
  {
   "cell_type": "markdown",
   "id": "f0d130ba-22fd-44de-9fdf-ba353c2defbb",
   "metadata": {},
   "source": [
    "# Lowpass filtering and resampling\n",
    "\n",
    "The data will now be resampled to 1000 Hz. Prior to resampling data will be lowpass filtered at 1000 Hz/4 = 250 Hz. The downsample is done to avoid alias problems (see Smith 1998, chapter 3). After the lowpass filtering the data are resampled to the desired frequency."
   ]
  },
  {
   "cell_type": "code",
   "execution_count": 3,
   "id": "836b5c86-65c1-4315-8c1b-5a1f8346dd5d",
   "metadata": {},
   "outputs": [
    {
     "name": "stdout",
     "output_type": "stream",
     "text": [
      "Filtering raw data in 1 contiguous segment\n",
      "Setting up low-pass filter at 2.5e+02 Hz\n",
      "\n",
      "FIR filter parameters\n",
      "---------------------\n",
      "Designing a one-pass, zero-phase, non-causal lowpass filter:\n",
      "- Windowed time-domain design (firwin) method\n",
      "- Hamming window with 0.0194 passband ripple and 53 dB stopband attenuation\n",
      "- Upper passband edge: 250.00 Hz\n",
      "- Upper transition bandwidth: 62.50 Hz (-6 dB cutoff frequency: 281.25 Hz)\n",
      "- Filter length: 265 samples (0.053 s)\n",
      "\n"
     ]
    },
    {
     "name": "stderr",
     "output_type": "stream",
     "text": [
      "[Parallel(n_jobs=1)]: Done  17 tasks      | elapsed:    3.5s\n"
     ]
    },
    {
     "name": "stdout",
     "output_type": "stream",
     "text": [
      "1744 events found on stim channel di32\n",
      "Event IDs: [   1    2    6    7   50  400  500  800  900 1000 1100 2000 2100]\n",
      "1744 events found on stim channel di32\n",
      "Event IDs: [   1    2    6    7   50  400  500  800  900 1000 1100 2000 2100]\n"
     ]
    },
    {
     "data": {
      "text/html": [
       "<script type=\"text/javascript\">\n",
       "    const toggleVisibility = (className) => {\n",
       "\n",
       "  const elements = document.querySelectorAll(`.${className}`)\n",
       "\n",
       "  elements.forEach(element => {\n",
       "    if (element.classList.contains('repr-section-header')) {\n",
       "      // Don't collapse the section header row.\n",
       "       return\n",
       "    }\n",
       "    if (element.classList.contains('repr-element-collapsed')) {\n",
       "      // Force a reflow to ensure the display change takes effect before removing the class\n",
       "      element.classList.remove('repr-element-collapsed')\n",
       "      element.offsetHeight // This forces the browser to recalculate layout\n",
       "      element.classList.remove('repr-element-faded')\n",
       "    } else {\n",
       "      // Start transition to hide the element\n",
       "      element.classList.add('repr-element-faded')\n",
       "      element.addEventListener('transitionend', handler = (e) => {\n",
       "        if (e.propertyName === 'opacity' && getComputedStyle(element).opacity === '0.2') {\n",
       "          element.classList.add('repr-element-collapsed')\n",
       "          element.removeEventListener('transitionend', handler)\n",
       "        }\n",
       "      });\n",
       "    }\n",
       "  });\n",
       "\n",
       "  // Take care of button (adjust caret)\n",
       "  const button = document.querySelectorAll(`.repr-section-header.${className} > th.repr-section-toggle-col > button`)[0]\n",
       "  button.classList.toggle('collapsed')\n",
       "\n",
       "  // Take care of the tooltip of the section header row\n",
       "  const sectionHeaderRow = document.querySelectorAll(`tr.repr-section-header.${className}`)[0]\n",
       "  sectionHeaderRow.classList.toggle('collapsed')\n",
       "  sectionHeaderRow.title = sectionHeaderRow.title === 'Hide section' ? 'Show section' : 'Hide section'\n",
       "}\n",
       "</script>\n",
       "\n",
       "<style type=\"text/css\">\n",
       "    table.repr.table.table-hover.table-striped.table-sm.table-responsive.small {\n",
       "  /* Don't make rows wider than they need to be. */\n",
       "  display: inline;\n",
       "}\n",
       "\n",
       "table > tbody > tr.repr-element > td {\n",
       "  /* Apply a tighter layout to the table cells. */\n",
       "  padding-top: 0.1rem;\n",
       "  padding-bottom: 0.1rem;\n",
       "  padding-right: 1rem;\n",
       "}\n",
       "\n",
       "table > tbody > tr > td.repr-section-toggle-col {\n",
       "  /* Remove background and border of the first cell in every row\n",
       "     (this row is only used for the collapse / uncollapse caret)\n",
       "\n",
       "     TODO: Need to find a good solution for VS Code that works in both\n",
       "           light and dark mode. */\n",
       "  border-color: transparent;\n",
       "  --bs-table-accent-bg: transparent;\n",
       "}\n",
       "\n",
       "tr.repr-section-header {\n",
       "  /* Remove stripes from section header rows */\n",
       "  background-color: transparent;\n",
       "  border-color: transparent;\n",
       "  --bs-table-striped-bg: transparent;\n",
       "  cursor: pointer;\n",
       "}\n",
       "\n",
       "tr.repr-section-header > th {\n",
       "  text-align: left !important;\n",
       "  vertical-align: middle;\n",
       "}\n",
       "\n",
       ".repr-element, tr.repr-element > td {\n",
       "  opacity: 1;\n",
       "  text-align: left !important;\n",
       "}\n",
       "\n",
       ".repr-element-faded {\n",
       "  transition: 0.3s ease;\n",
       "  opacity: 0.2;\n",
       "}\n",
       "\n",
       ".repr-element-collapsed {\n",
       "  display: none;\n",
       "}\n",
       "\n",
       "/* Collapse / uncollapse button and the caret it contains. */\n",
       ".repr-section-toggle-col button {\n",
       "  cursor: pointer;\n",
       "  width: 1rem;\n",
       "  background-color: transparent;\n",
       "  border-color: transparent;\n",
       "}\n",
       "\n",
       "span.collapse-uncollapse-caret {\n",
       "  width: 1rem;\n",
       "  height: 1rem;\n",
       "  display: block;\n",
       "  background-repeat: no-repeat;\n",
       "  background-position: left;\n",
       "  background-size: contain;\n",
       "}\n",
       "\n",
       "/* The collapse / uncollapse carets were copied from the free Font Awesome collection and adjusted. */\n",
       "\n",
       "/* Default to black carets for light mode */\n",
       ".repr-section-toggle-col > button.collapsed > span.collapse-uncollapse-caret {\n",
       "  background-image: url('data:image/svg+xml;charset=utf8,<svg xmlns=\"http://www.w3.org/2000/svg\" viewBox=\"0 0 256 512\"><!--!Font Awesome Free 6.5.2 by @fontawesome - https://fontawesome.com License - https://fontawesome.com/license/free Copyright 2024 Fonticons, Inc.--><path fill=\"black\" d=\"M246.6 278.6c12.5-12.5 12.5-32.8 0-45.3l-128-128c-9.2-9.2-22.9-11.9-34.9-6.9s-19.8 16.6-19.8 29.6l0 256c0 12.9 7.8 24.6 19.8 29.6s25.7 2.2 34.9-6.9l128-128z\"/></svg>');\n",
       "}\n",
       "\n",
       ".repr-section-toggle-col\n",
       "  > button:not(.collapsed)\n",
       "  > span.collapse-uncollapse-caret {\n",
       "  background-image: url('data:image/svg+xml;charset=utf8,<svg xmlns=\"http://www.w3.org/2000/svg\" viewBox=\"0 0 320 512\"><!--!Font Awesome Free 6.5.2 by @fontawesome - https://fontawesome.com License - https://fontawesome.com/license/free Copyright 2024 Fonticons, Inc.--><path fill=\"black\" d=\"M137.4 374.6c12.5 12.5 32.8 12.5 45.3 0l128-128c9.2-9.2 11.9-22.9 6.9-34.9s-16.6-19.8-29.6-19.8L32 192c-12.9 0-24.6 7.8-29.6 19.8s-2.2 25.7 6.9 34.9l128 128z\"/></svg>');\n",
       "}\n",
       "\n",
       "/* Use white carets for dark mode */\n",
       "@media (prefers-color-scheme: dark) {\n",
       "  .repr-section-toggle-col > button.collapsed > span.collapse-uncollapse-caret {\n",
       "    background-image: url('data:image/svg+xml;charset=utf8,<svg xmlns=\"http://www.w3.org/2000/svg\" viewBox=\"0 0 256 512\"><!--!Font Awesome Free 6.5.2 by @fontawesome - https://fontawesome.com License - https://fontawesome.com/license/free Copyright 2024 Fonticons, Inc.--><path fill=\"white\" d=\"M246.6 278.6c12.5-12.5 12.5-32.8 0-45.3l-128-128c-9.2-9.2-22.9-11.9-34.9-6.9s-19.8 16.6-19.8 29.6l0 256c0 12.9 7.8 24.6 19.8 29.6s25.7 2.2 34.9-6.9l128-128z\"/></svg>');\n",
       "  }\n",
       "\n",
       "  .repr-section-toggle-col\n",
       "    > button:not(.collapsed)\n",
       "    > span.collapse-uncollapse-caret {\n",
       "    background-image: url('data:image/svg+xml;charset=utf8,<svg xmlns=\"http://www.w3.org/2000/svg\" viewBox=\"0 0 320 512\"><!--!Font Awesome Free 6.5.2 by @fontawesome - https://fontawesome.com License - https://fontawesome.com/license/free Copyright 2024 Fonticons, Inc.--><path fill=\"white\" d=\"M137.4 374.6c12.5 12.5 32.8 12.5 45.3 0l128-128c9.2-9.2 11.9-22.9 6.9-34.9s-16.6-19.8-29.6-19.8L32 192c-12.9 0-24.6 7.8-29.6 19.8s-2.2 25.7 6.9 34.9l128 128z\"/></svg>');\n",
       "  }\n",
       "}\n",
       "\n",
       ".channel-names-btn {\n",
       "  padding: 0;\n",
       "  border: none;\n",
       "  background: none;\n",
       "  text-decoration: underline;\n",
       "  text-decoration-style: dashed;\n",
       "  cursor: pointer;\n",
       "  color: #0d6efd;\n",
       "}\n",
       "\n",
       ".channel-names-btn:hover {\n",
       "  color: #0a58ca;\n",
       "}\n",
       "</style>\n",
       "\n",
       "\n",
       "\n",
       "<table class=\"repr table table-hover table-striped table-sm table-responsive small\">\n",
       "    \n",
       "\n",
       "\n",
       "\n",
       "\n",
       "\n",
       "\n",
       "\n",
       "<tr class=\"repr-section-header general-75344a39-4795-4008-aba8-3893398f7eb2\"  title=\"Hide section\" \n",
       "    onclick=\"toggleVisibility('general-75344a39-4795-4008-aba8-3893398f7eb2')\">\n",
       "    <th class=\"repr-section-toggle-col\">\n",
       "        <button>\n",
       "            \n",
       "            <span class=\"collapse-uncollapse-caret\"></span>\n",
       "        </button>\n",
       "    </th>\n",
       "    <th colspan=\"2\">\n",
       "        <strong>General</strong>\n",
       "    </th>\n",
       "</tr>\n",
       "\n",
       "<tr class=\"repr-element general-75344a39-4795-4008-aba8-3893398f7eb2 \">\n",
       "    <td class=\"repr-section-toggle-col\"></td>\n",
       "    <td>Filename(s)</td>\n",
       "    <td>\n",
       "        \n",
       "        Main.fif\n",
       "        \n",
       "        \n",
       "    </td>\n",
       "</tr>\n",
       "\n",
       "<tr class=\"repr-element general-75344a39-4795-4008-aba8-3893398f7eb2 \">\n",
       "    <td class=\"repr-section-toggle-col\"></td>\n",
       "    <td>MNE object type</td>\n",
       "    <td>Raw</td>\n",
       "</tr>\n",
       "<tr class=\"repr-element general-75344a39-4795-4008-aba8-3893398f7eb2 \">\n",
       "    <td class=\"repr-section-toggle-col\"></td>\n",
       "    <td>Measurement date</td>\n",
       "    \n",
       "    <td>2024-12-06 at 18:13:30 UTC</td>\n",
       "    \n",
       "</tr>\n",
       "<tr class=\"repr-element general-75344a39-4795-4008-aba8-3893398f7eb2 \">\n",
       "    <td class=\"repr-section-toggle-col\"></td>\n",
       "    <td>Participant</td>\n",
       "    \n",
       "    <td>Unknown</td>\n",
       "    \n",
       "</tr>\n",
       "<tr class=\"repr-element general-75344a39-4795-4008-aba8-3893398f7eb2 \">\n",
       "    <td class=\"repr-section-toggle-col\"></td>\n",
       "    <td>Experimenter</td>\n",
       "    \n",
       "    <td>AK</td>\n",
       "    \n",
       "</tr>\n",
       "    \n",
       "\n",
       "\n",
       "\n",
       "\n",
       "\n",
       "\n",
       "\n",
       "<tr class=\"repr-section-header acquisition-38bfa5f0-98f1-473c-9fbe-ac652b4b419e\" \n",
       "    title=\"Hide section\"  onclick=\"toggleVisibility('acquisition-38bfa5f0-98f1-473c-9fbe-ac652b4b419e')\">\n",
       "    <th class=\"repr-section-toggle-col\">\n",
       "        <button>\n",
       "            \n",
       "            <span class=\"collapse-uncollapse-caret\"></span>\n",
       "        </button>\n",
       "    </th>\n",
       "    <th colspan=\"2\">\n",
       "        <strong>Acquisition</strong>\n",
       "    </th>\n",
       "</tr>\n",
       "\n",
       "<tr class=\"repr-element acquisition-38bfa5f0-98f1-473c-9fbe-ac652b4b419e \">\n",
       "    <td class=\"repr-section-toggle-col\"></td>\n",
       "    <td>Duration</td>\n",
       "    <td>00:29:33 (HH:MM:SS)</td>\n",
       "</tr>\n",
       "\n",
       "\n",
       "\n",
       "\n",
       "\n",
       "\n",
       "\n",
       "\n",
       "<tr class=\"repr-element acquisition-38bfa5f0-98f1-473c-9fbe-ac652b4b419e \">\n",
       "    <td class=\"repr-section-toggle-col\"></td>\n",
       "    <td>Sampling frequency</td>\n",
       "    <td>1000.00 Hz</td>\n",
       "</tr>\n",
       "\n",
       "\n",
       "<tr class=\"repr-element acquisition-38bfa5f0-98f1-473c-9fbe-ac652b4b419e \">\n",
       "    <td class=\"repr-section-toggle-col\"></td>\n",
       "    <td>Time points</td>\n",
       "    <td>1,772,380</td>\n",
       "</tr>\n",
       "\n",
       "\n",
       "    \n",
       "\n",
       "\n",
       "\n",
       "\n",
       "\n",
       "\n",
       "\n",
       "<tr class=\"repr-section-header channels-a66d8142-041c-48fb-9982-b95ecbfeee33\"  title=\"Hide section\" \n",
       "    onclick=\"toggleVisibility('channels-a66d8142-041c-48fb-9982-b95ecbfeee33')\">\n",
       "    <th class=\"repr-section-toggle-col\">\n",
       "        <button>\n",
       "            \n",
       "            <span class=\"collapse-uncollapse-caret\"></span>\n",
       "        </button>\n",
       "    </th>\n",
       "    <th colspan=\"2\">\n",
       "        <strong>Channels</strong>\n",
       "    </th>\n",
       "</tr>\n",
       "\n",
       "\n",
       "<tr class=\"repr-element channels-a66d8142-041c-48fb-9982-b95ecbfeee33 \">\n",
       "    <td class=\"repr-section-toggle-col\"></td>\n",
       "    <td>Magnetometers</td>\n",
       "    <td>\n",
       "        <button class=\"channel-names-btn\" onclick=\"alert('Good Magnetometers:\\n\\nL102_bz-s73, L104_bz-s80, L106_bz-s84, L108_bz-s77, L110_bz-s76, L112_bz-s44, L114_bz-s50, L116_bz-s37, L201_bz-s86, L203_bz-s88, L205_bz-s87, L207_bz-s75, L209_bz-s52, L210_bz-s65, L211_bz-s46, L213_bz-s48, L215_bz-s47, L302_bz-s83, L304_bz-s71, L306_bz-s67, L307_bz-s42, L309_bz-s68, L310_bz-s45, L312_bz-s49, L401_bz-s85, L403_bz-s81, L405_bz-s82, L407_bz-s41, L409_bz-s43, L503_bz-s79, L505_bz-s74, L507_bz-s70, L603_bz-s78, L606_bz-s72, L607_bz-s9, R102_bz-s4, R104_bz-s11, R106_bz-s3, R108_bz-s12, R110_bz-s1, R112_bz-s39, R114_bz-s35, R116_bz-s36, R201_bz-s6, R203_bz-s7, R205_bz-s8, R207_bz-s10, R209_bz-s38, R210_bz-s66, R211_bz-s34, R213_bz-s32, R215_bz-s25, R302_bz-s13, R304_bz-s5, R306_bz-s69, R307_bz-s2, R309_bz-s27, R310_bz-s19, R312_bz-s33, R401_bz-s30, R403_bz-s29, R405_bz-s40, R407_bz-s26, R409_bz-s18, R503_bz-s17, R505_bz-s24, R507_bz-s22, R509_bz-s31, R606_bz-s14, s16_bz')\" title=\"(Click to open in popup)&#13;&#13;L102_bz-s73, L104_bz-s80, L106_bz-s84, L108_bz-s77, L110_bz-s76, L112_bz-s44, L114_bz-s50, L116_bz-s37, L201_bz-s86, L203_bz-s88, L205_bz-s87, L207_bz-s75, L209_bz-s52, L210_bz-s65, L211_bz-s46, L213_bz-s48, L215_bz-s47, L302_bz-s83, L304_bz-s71, L306_bz-s67, L307_bz-s42, L309_bz-s68, L310_bz-s45, L312_bz-s49, L401_bz-s85, L403_bz-s81, L405_bz-s82, L407_bz-s41, L409_bz-s43, L503_bz-s79, L505_bz-s74, L507_bz-s70, L603_bz-s78, L606_bz-s72, L607_bz-s9, R102_bz-s4, R104_bz-s11, R106_bz-s3, R108_bz-s12, R110_bz-s1, R112_bz-s39, R114_bz-s35, R116_bz-s36, R201_bz-s6, R203_bz-s7, R205_bz-s8, R207_bz-s10, R209_bz-s38, R210_bz-s66, R211_bz-s34, R213_bz-s32, R215_bz-s25, R302_bz-s13, R304_bz-s5, R306_bz-s69, R307_bz-s2, R309_bz-s27, R310_bz-s19, R312_bz-s33, R401_bz-s30, R403_bz-s29, R405_bz-s40, R407_bz-s26, R409_bz-s18, R503_bz-s17, R505_bz-s24, R507_bz-s22, R509_bz-s31, R606_bz-s14, s16_bz\">\n",
       "            70\n",
       "        </button>\n",
       "\n",
       "        \n",
       "    </td>\n",
       "</tr>\n",
       "\n",
       "\n",
       "<tr class=\"repr-element channels-a66d8142-041c-48fb-9982-b95ecbfeee33 \">\n",
       "    <td class=\"repr-section-toggle-col\"></td>\n",
       "    <td>Stimulus</td>\n",
       "    <td>\n",
       "        <button class=\"channel-names-btn\" onclick=\"alert('Good Stimulus:\\n\\ndi32')\" title=\"(Click to open in popup)&#13;&#13;di32\">\n",
       "            1\n",
       "        </button>\n",
       "\n",
       "        \n",
       "    </td>\n",
       "</tr>\n",
       "\n",
       "\n",
       "<tr class=\"repr-element channels-a66d8142-041c-48fb-9982-b95ecbfeee33 \">\n",
       "    <td class=\"repr-section-toggle-col\"></td>\n",
       "    <td>Head & sensor digitization</td>\n",
       "    \n",
       "    <td>6 points</td>\n",
       "    \n",
       "</tr>\n",
       "    \n",
       "\n",
       "\n",
       "\n",
       "\n",
       "\n",
       "\n",
       "\n",
       "<tr class=\"repr-section-header filters-4bd9c949-7d25-4ab0-8a37-1e686a6a5699\"  title=\"Hide section\" \n",
       "    onclick=\"toggleVisibility('filters-4bd9c949-7d25-4ab0-8a37-1e686a6a5699')\">\n",
       "    <th class=\"repr-section-toggle-col\">\n",
       "        <button>\n",
       "            \n",
       "            <span class=\"collapse-uncollapse-caret\"></span>\n",
       "        </button>\n",
       "    </th>\n",
       "    <th colspan=\"2\">\n",
       "        <strong>Filters</strong>\n",
       "    </th>\n",
       "</tr>\n",
       "\n",
       "<tr class=\"repr-element filters-4bd9c949-7d25-4ab0-8a37-1e686a6a5699 \">\n",
       "    <td class=\"repr-section-toggle-col\"></td>\n",
       "    <td>Highpass</td>\n",
       "    <td>0.00 Hz</td>\n",
       "</tr>\n",
       "\n",
       "\n",
       "<tr class=\"repr-element filters-4bd9c949-7d25-4ab0-8a37-1e686a6a5699 \">\n",
       "    <td class=\"repr-section-toggle-col\"></td>\n",
       "    <td>Lowpass</td>\n",
       "    <td>250.00 Hz</td>\n",
       "</tr>\n",
       "\n",
       "\n",
       "</table>"
      ],
      "text/plain": [
       "<Raw | Main.fif, 71 x 1772380 (1772.4 s), ~960.1 MB, data loaded>"
      ]
     },
     "execution_count": 3,
     "metadata": {},
     "output_type": "execute_result"
    }
   ],
   "source": [
    "desired_sfreq = 1000\n",
    "current_sfreq = raw.info['sfreq']\n",
    "\n",
    "lowpass_freq = desired_sfreq / 4.0\n",
    "raw_resampled = raw.copy().filter(l_freq=None, h_freq=lowpass_freq)\n",
    "\n",
    "raw_resampled.resample(sfreq=desired_sfreq)"
   ]
  },
  {
   "cell_type": "markdown",
   "id": "171adcef",
   "metadata": {},
   "source": [
    "##### As a final step, the resampled data will be saved"
   ]
  },
  {
   "cell_type": "code",
   "execution_count": 4,
   "id": "8d8ea9d0",
   "metadata": {},
   "outputs": [
    {
     "name": "stdout",
     "output_type": "stream",
     "text": [
      "Writing /home/rakshita/rds_folders/Sproject3/OPM_data/Raw_Sub3/Main_rs.fif\n"
     ]
    },
    {
     "name": "stderr",
     "output_type": "stream",
     "text": [
      "/tmp/ipykernel_39257/649465886.py:1: RuntimeWarning: This filename (/home/rakshita/rds_folders/Sproject3/OPM_data/Raw_Sub3/Main_rs.fif) does not conform to MNE naming conventions. All raw files should end with raw.fif, raw_sss.fif, raw_tsss.fif, _meg.fif, _eeg.fif, _ieeg.fif, raw.fif.gz, raw_sss.fif.gz, raw_tsss.fif.gz, _meg.fif.gz, _eeg.fif.gz or _ieeg.fif.gz\n",
      "  raw_resampled.save(raw_resampled_fname, overwrite=True)\n"
     ]
    },
    {
     "name": "stdout",
     "output_type": "stream",
     "text": [
      "Closing /home/rakshita/rds_folders/Sproject3/OPM_data/Raw_Sub3/Main_rs.fif\n",
      "[done]\n"
     ]
    }
   ],
   "source": [
    "raw_resampled.save(raw_resampled_fname, overwrite=True)"
   ]
  },
  {
   "cell_type": "markdown",
   "id": "633b11a9",
   "metadata": {},
   "source": [
    "To verify that the data has been resampled write"
   ]
  },
  {
   "cell_type": "code",
   "execution_count": 5,
   "id": "1626dbe3",
   "metadata": {},
   "outputs": [
    {
     "name": "stdout",
     "output_type": "stream",
     "text": [
      "<Info | 17 non-empty values\n",
      " bads: []\n",
      " ch_names: L102_bz-s73, L104_bz-s80, L106_bz-s84, L108_bz-s77, L110_bz-s76, ...\n",
      " chs: 70 Magnetometers, 1 Stimulus\n",
      " custom_ref_applied: False\n",
      " description: {\"chassis\":{\"version\":\"0.9.4- ...\n",
      " dig: 6 items (3 Cardinal, 3 HPI)\n",
      " experimenter: AK\n",
      " file_id: 4 items (dict)\n",
      " gantry_angle: 0.0\n",
      " highpass: 0.0 Hz\n",
      " line_freq: 0.0\n",
      " lowpass: 250.0 Hz\n",
      " meas_date: 2024-12-06 18:13:30 UTC\n",
      " meas_id: 4 items (dict)\n",
      " nchan: 71\n",
      " proj_id: 1 item (ndarray)\n",
      " proj_name: Empty\n",
      " projs: []\n",
      " sfreq: 1000.0 Hz\n",
      " xplotter_layout: None\n",
      ">\n"
     ]
    }
   ],
   "source": [
    "print(raw_resampled.info)"
   ]
  },
  {
   "cell_type": "markdown",
   "id": "6620befc",
   "metadata": {},
   "source": [
    "From now we will be working on the resampled data. Data with the 5000 Hz sample rate can he archived as they no longer will be used."
   ]
  },
  {
   "cell_type": "markdown",
   "id": "8fc9f222",
   "metadata": {},
   "source": [
    "## Converting to MEG BIDS format"
   ]
  },
  {
   "cell_type": "markdown",
   "id": "61a5e4e6",
   "metadata": {},
   "source": [
    "Read in the resampled data"
   ]
  },
  {
   "cell_type": "code",
   "execution_count": 6,
   "id": "cd44a0c4",
   "metadata": {},
   "outputs": [
    {
     "name": "stdout",
     "output_type": "stream",
     "text": [
      "Opening raw data file /home/rakshita/rds_folders/Sproject3/OPM_data/Raw_Sub3/Main_rs.fif...\n"
     ]
    },
    {
     "name": "stderr",
     "output_type": "stream",
     "text": [
      "/tmp/ipykernel_39257/1265112872.py:2: RuntimeWarning: This filename (/home/rakshita/rds_folders/Sproject3/OPM_data/Raw_Sub3/Main_rs.fif) does not conform to MNE naming conventions. All raw files should end with raw.fif, raw_sss.fif, raw_tsss.fif, _meg.fif, _eeg.fif, _ieeg.fif, raw.fif.gz, raw_sss.fif.gz, raw_tsss.fif.gz, _meg.fif.gz, _eeg.fif.gz or _ieeg.fif.gz\n",
      "  raw = mne.io.read_raw(raw_resampled_fname)\n"
     ]
    },
    {
     "name": "stdout",
     "output_type": "stream",
     "text": [
      "    Range : 0 ... 1772379 =      0.000 ...  1772.379 secs\n",
      "Ready.\n"
     ]
    }
   ],
   "source": [
    "del raw, raw_resampled\n",
    "raw = mne.io.read_raw(raw_resampled_fname)"
   ]
  },
  {
   "cell_type": "markdown",
   "id": "8559c43d",
   "metadata": {},
   "source": [
    "### Finding triggers and write a FIF file\n",
    "\n",
    "The BIDS data will include trigger information. As a first step all the events extract from the trigger channel and also included in an additional FIF file."
   ]
  },
  {
   "cell_type": "code",
   "execution_count": 7,
   "id": "a03e6367-ce8a-47f9-b178-5e5453d8af98",
   "metadata": {},
   "outputs": [
    {
     "name": "stdout",
     "output_type": "stream",
     "text": [
      "1744 events found on stim channel di32\n",
      "Event IDs: [   1    2    6    7   50  400  500  800  900 1000 1100 2000 2100]\n"
     ]
    },
    {
     "name": "stderr",
     "output_type": "stream",
     "text": [
      "/tmp/ipykernel_39257/199170786.py:2: RuntimeWarning: This filename (/home/rakshita/rds_folders/Sproject3/OPM_data/Raw_Sub3/Main_event.fif) does not conform to MNE naming conventions. All events files should end with .eve, -eve.fif, -eve.fif.gz, -eve.lst, -eve.txt, _eve.fif, _eve.fif.gz, _eve.lst or _eve.txt\n",
      "  mne.write_events(event_fname, events, overwrite=True)\n"
     ]
    }
   ],
   "source": [
    "events = mne.find_events(raw, stim_channel=\"di32\")\n",
    "mne.write_events(event_fname, events, overwrite=True)"
   ]
  },
  {
   "cell_type": "markdown",
   "id": "177e2481",
   "metadata": {},
   "source": [
    "### Naming the events according to trigger information"
   ]
  },
  {
   "cell_type": "markdown",
   "id": "d4751157",
   "metadata": {},
   "source": [
    "The trigger values will now be assigned labels. This will be dependent on specific design of the study and care should be\n",
    "taken to assing informative labels."
   ]
  },
  {
   "cell_type": "code",
   "execution_count": 8,
   "id": "a4321498",
   "metadata": {},
   "outputs": [],
   "source": [
    "event_dict = {\n",
    "    \"cue_right\": 1,\n",
    "    \"cue_left\": 2,\n",
    "    \"trial_start\":50,\n",
    "    \"stim_onset\":400,\n",
    "    \"catch_onset\":500,\n",
    "    \"dot_right\": 6,\n",
    "    \"dot_left\": 7,\n",
    "    \"resp\": 800,\n",
    "    \"blk_start\": 900,\n",
    "    \"blk_end\":1000,\n",
    "    \"exp_end\":1100,\n",
    "    \"reston\":2000,\n",
    "    \"restoff\":2100\n",
    "}"
   ]
  },
  {
   "cell_type": "markdown",
   "id": "2da8e8bf",
   "metadata": {},
   "source": [
    "### Writing the BIDS file\n",
    "\n",
    "For the BIDS conversion several parameters needs to be defined according to the subjection and session. Subsequently the BIDS structure can be written."
   ]
  },
  {
   "cell_type": "code",
   "execution_count": 9,
   "id": "15fbf4b6",
   "metadata": {},
   "outputs": [
    {
     "name": "stdout",
     "output_type": "stream",
     "text": [
      "Opening raw data file /home/rakshita/rds_folders/Sproject3/OPM_data/Raw_Sub3/Main_rs.fif...\n"
     ]
    },
    {
     "name": "stderr",
     "output_type": "stream",
     "text": [
      "/tmp/ipykernel_39257/172594259.py:16: RuntimeWarning: This filename (/home/rakshita/rds_folders/Sproject3/OPM_data/Raw_Sub3/Main_rs.fif) does not conform to MNE naming conventions. All raw files should end with raw.fif, raw_sss.fif, raw_tsss.fif, _meg.fif, _eeg.fif, _ieeg.fif, raw.fif.gz, raw_sss.fif.gz, raw_tsss.fif.gz, _meg.fif.gz, _eeg.fif.gz or _ieeg.fif.gz\n",
      "  write_raw_bids(\n"
     ]
    },
    {
     "name": "stdout",
     "output_type": "stream",
     "text": [
      "    Range : 0 ... 1772379 =      0.000 ...  1772.379 secs\n",
      "Ready.\n",
      "Writing '/home/rakshita/rds_folders/Sproject3/OPM_data/Raw_Sub3/Sub3_BIDS/README'...\n",
      "Writing '/home/rakshita/rds_folders/Sproject3/OPM_data/Raw_Sub3/Sub3_BIDS/participants.tsv'...\n",
      "Writing '/home/rakshita/rds_folders/Sproject3/OPM_data/Raw_Sub3/Sub3_BIDS/participants.json'...\n",
      "Writing '/home/rakshita/rds_folders/Sproject3/OPM_data/Raw_Sub3/Sub3_BIDS/sub-01/ses-01/meg/sub-01_ses-01_coordsystem.json'...\n",
      "Writing '/home/rakshita/rds_folders/Sproject3/OPM_data/Raw_Sub3/Sub3_BIDS/sub-01/ses-01/meg/sub-01_ses-01_coordsystem.json'...\n",
      "Used Annotations descriptions: ['blk_end', 'blk_start', 'catch_onset', 'cue_left', 'cue_right', 'dot_left', 'dot_right', 'exp_end', 'resp', 'restoff', 'reston', 'stim_onset', 'trial_start']\n",
      "Writing '/home/rakshita/rds_folders/Sproject3/OPM_data/Raw_Sub3/Sub3_BIDS/sub-01/ses-01/meg/sub-01_ses-01_task-SpAtt_run-01_events.tsv'...\n",
      "Writing '/home/rakshita/rds_folders/Sproject3/OPM_data/Raw_Sub3/Sub3_BIDS/sub-01/ses-01/meg/sub-01_ses-01_task-SpAtt_run-01_events.json'...\n",
      "Writing '/home/rakshita/rds_folders/Sproject3/OPM_data/Raw_Sub3/Sub3_BIDS/dataset_description.json'...\n",
      "Writing '/home/rakshita/rds_folders/Sproject3/OPM_data/Raw_Sub3/Sub3_BIDS/sub-01/ses-01/meg/sub-01_ses-01_task-SpAtt_run-01_meg.json'...\n",
      "Writing '/home/rakshita/rds_folders/Sproject3/OPM_data/Raw_Sub3/Sub3_BIDS/sub-01/ses-01/meg/sub-01_ses-01_task-SpAtt_run-01_channels.tsv'...\n",
      "Copying data files to sub-01_ses-01_task-SpAtt_run-01_meg.fif\n",
      "Reserving possible split file sub-01_ses-01_task-SpAtt_run-01_split-01_meg.fif\n",
      "Writing /home/rakshita/rds_folders/Sproject3/OPM_data/Raw_Sub3/Sub3_BIDS/sub-01/ses-01/meg/sub-01_ses-01_task-SpAtt_run-01_meg.fif\n"
     ]
    },
    {
     "name": "stderr",
     "output_type": "stream",
     "text": [
      "/tmp/ipykernel_39257/172594259.py:16: RuntimeWarning: This filename (/home/rakshita/rds_folders/Sproject3/OPM_data/Raw_Sub3/Main_event.fif) does not conform to MNE naming conventions. All events files should end with .eve, -eve.fif, -eve.fif.gz, -eve.lst, -eve.txt, _eve.fif, _eve.fif.gz, _eve.lst, _eve.txt or -annot.fif\n",
      "  write_raw_bids(\n"
     ]
    },
    {
     "name": "stdout",
     "output_type": "stream",
     "text": [
      "Closing /home/rakshita/rds_folders/Sproject3/OPM_data/Raw_Sub3/Sub3_BIDS/sub-01/ses-01/meg/sub-01_ses-01_task-SpAtt_run-01_meg.fif\n",
      "[done]\n",
      "Writing '/home/rakshita/rds_folders/Sproject3/OPM_data/Raw_Sub3/Sub3_BIDS/sub-01/ses-01/sub-01_ses-01_scans.tsv'...\n",
      "Wrote /home/rakshita/rds_folders/Sproject3/OPM_data/Raw_Sub3/Sub3_BIDS/sub-01/ses-01/sub-01_ses-01_scans.tsv entry with meg/sub-01_ses-01_task-SpAtt_run-01_meg.fif.\n"
     ]
    },
    {
     "data": {
      "text/plain": [
       "BIDSPath(\n",
       "root: /home/rakshita/rds_folders/Sproject3/OPM_data/Raw_Sub3/Sub3_BIDS\n",
       "datatype: meg\n",
       "basename: sub-01_ses-01_task-SpAtt_run-01_meg.fif)"
      ]
     },
     "execution_count": 9,
     "metadata": {},
     "output_type": "execute_result"
    }
   ],
   "source": [
    "raw.info[\"line_freq\"] = 50\n",
    "\n",
    "subject = '01'\n",
    "session = '01'\n",
    "task = 'SpAtt'\n",
    "run = '01'\n",
    "\n",
    "bids_path = BIDSPath(\n",
    "    subject=subject, \n",
    "    session=session, \n",
    "    task=task, \n",
    "    run=run, \n",
    "    datatype=\"meg\", \n",
    "    root=bids_folder\n",
    ")\n",
    "write_raw_bids(\n",
    "    raw=raw,\n",
    "    bids_path=bids_path,\n",
    "    events=event_fname,\n",
    "    event_id=event_dict,\n",
    "    overwrite=True,\n",
    ")"
   ]
  },
  {
   "cell_type": "markdown",
   "id": "64ff5e2f",
   "metadata": {},
   "source": [
    "As last check print the structure of the BIDS file"
   ]
  },
  {
   "cell_type": "code",
   "execution_count": null,
   "id": "b7176ba3",
   "metadata": {},
   "outputs": [],
   "source": [
    "print_dir_tree(bids_folder)"
   ]
  },
  {
   "cell_type": "markdown",
   "id": "8bc52cde",
   "metadata": {},
   "source": [
    "## References\n",
    "Niso G, Gorgolewski KJ, Bock E, Brooks TL, Flandin G, Gramfort A, Henson RN, Jas M, Litvak V, T Moreau J, Oostenveld R, Schoffelen JM, Tadel F, Wexler J, Baillet S. MEG-BIDS, the brain imaging data structure extended to magnetoencephalography (2018) Sci Data 5:180110. doi: 10.1038/sdata.2018.110.\n",
    "\n",
    "Smith SW (1998) The Scientist and Engineer's Guide to Digital Signal Processing. California Technical Pub https://www.dspguide.com/pdfbook.htm\n"
   ]
  },
  {
   "cell_type": "code",
   "execution_count": null,
   "id": "6632a2e2",
   "metadata": {},
   "outputs": [],
   "source": []
  }
 ],
 "metadata": {
  "kernelspec": {
   "display_name": "Python 3 (ipykernel)",
   "language": "python",
   "name": "python3"
  },
  "language_info": {
   "codemirror_mode": {
    "name": "ipython",
    "version": 3
   },
   "file_extension": ".py",
   "mimetype": "text/x-python",
   "name": "python",
   "nbconvert_exporter": "python",
   "pygments_lexer": "ipython3",
   "version": "3.12.4"
  }
 },
 "nbformat": 4,
 "nbformat_minor": 5
}
