{
 "cells": [
  {
   "cell_type": "markdown",
   "id": "7d87e7ed-e852-4645-86f7-b82ccd69bf5e",
   "metadata": {},
   "source": [
    "# Downsampling and BIDS conversion\n",
    "\n",
    "## Introduction\n",
    "\n",
    "In this section we will demonstrate how to prepare the data for further analysis. As the FieldLine data are sampled at 5000 Hz the first step is to downsample to 1000 Hz. Subsequenctly we will convert the data to MEG BIDS (Niso et al., 2018). BIDS (Brain Imaging Data Structure) is a standardised format for organising and describing neuroimaging datasets. It ensures that the meta data are present and that the file structure is consistent over data sets. \n",
    "\n",
    "## Preparation\n",
    "\n",
    "Import the required modules:"
   ]
  },
  {
   "cell_type": "code",
   "execution_count": null,
   "id": "77d672a5-6bac-4781-ac0a-cb5a0345112c",
   "metadata": {},
   "outputs": [],
   "source": [
    "import os\n",
    "\n",
    "import numpy as np\n",
    "import pandas as pd\n",
    "\n",
    "import mne\n",
    "from mne_bids import (\n",
    "    BIDSPath,\n",
    "    make_dataset_description,\n",
    "    print_dir_tree,\n",
    "    read_raw_bids,\n",
    "    write_meg_calibration,\n",
    "    write_meg_crosstalk,\n",
    "    write_raw_bids,\n",
    ")"
   ]
  },
  {
   "cell_type": "markdown",
   "id": "8946c8be",
   "metadata": {},
   "source": [
    "### File overview\n",
    "\n",
    "The chapter relies on the input files:\n",
    "~~~\n",
    "<ROOT>/Rec15.fif\n",
    "~~~ \n",
    "and generate the out files:\n",
    "~~~\n",
    "<ROOT>/Rec15_fs.fif\n",
    "<ROOT>/Rec15_event.fif\n",
    "\n",
    "<ROOT/BIDSRec15/participants.json\n",
    "<ROOT/BIDSRec15/participants.tsv\n",
    "<ROOT/BIDSRec15/sub-01/ses-01/sub-01_ses-01_scans.tsv\n",
    "<ROOT/BIDSRec15/dataset_description.json\n",
    "<ROOT/BIDSRec15/sub-01/ses-01/meg/sub-01_ses-01_coordsystem.json\n",
    "<ROOT/BIDSRec15/ses-01/meg/sub-01_ses-01_task-SpAtt_run-1_channels.tsv\n",
    "<ROOT/BIDSRec15/ses-01/meg/sub-01_ses-01_task-SpAtt_run-1_events.json\n",
    "<ROOT/BIDSRec15/meg/sub-01_ses-01_task-SpAtt_run-1_events.tsv\n",
    "<ROOT/BIDSRec15/meg/sub-01_ses-01_task-SpAtt_run-1_meg.fif\n",
    "<ROOT/BIDSRec15/sub-01_ses-01_task-SpAtt_run-1_meg.json\n",
    "~~~"
   ]
  },
  {
   "cell_type": "markdown",
   "id": "28dbcfb9-27d2-4cd6-a57b-219e9b6bc393",
   "metadata": {},
   "source": [
    "### Loading the data\n",
    "\n",
    "The FieldLine data are stored in FIF format which is a binary file structure with embedded lables.\n",
    "\n",
    "As a first step we will load the data. Make sure the data_data path is set to where the data are stored. We will also define the name of the resampled data with 'rs' added to the filename ( <a>  *_rs.fif  </a>).\n"
   ]
  },
  {
   "cell_type": "code",
   "execution_count": null,
   "id": "6ed39f27-c5ad-41ca-bd82-d1e3e4dfe7ad",
   "metadata": {},
   "outputs": [],
   "source": [
    "data_path = '/home/rakshita/rds_folders/Sproject3/EmptyRoom/Recordings'\n",
    "file_name = 'Rec15.fif'\n",
    "raw_fname = os.path.join(data_path, file_name)\n",
    "\n",
    "raw = mne.io.read_raw_fif(raw_fname, preload=True)\n",
    "raw_resampled_fname = raw_fname.replace('.fif', f'_rs.fif')\n",
    "\n",
    "event_fname = raw_fname.replace('.fif', f'_event.fif')\n",
    "\n",
    "bids_folder = os.path.join(data_path, \"BIDSRec15_03\")"
   ]
  },
  {
   "cell_type": "markdown",
   "id": "f0d130ba-22fd-44de-9fdf-ba353c2defbb",
   "metadata": {},
   "source": [
    "# Lowpass filtering and resampling\n",
    "\n",
    "The data will now be resampled to 1000 Hz. Prior to resampling data will be lowpass filtered at 1000 Hz/4 = 250 Hz. The downsample is done to avoid alias problems (see Smith 1998, chapter 3). After the lowpass filtering the data are resampled to the desired frequency."
   ]
  },
  {
   "cell_type": "code",
   "execution_count": null,
   "id": "836b5c86-65c1-4315-8c1b-5a1f8346dd5d",
   "metadata": {},
   "outputs": [],
   "source": [
    "desired_sfreq = 1000\n",
    "current_sfreq = raw.info['sfreq']\n",
    "\n",
    "lowpass_freq = desired_sfreq / 4.0\n",
    "raw_resampled = raw.copy().filter(l_freq=None, h_freq=lowpass_freq)\n",
    "\n",
    "raw_resampled.resample(sfreq=desired_sfreq)"
   ]
  },
  {
   "cell_type": "markdown",
   "id": "171adcef",
   "metadata": {},
   "source": [
    "##### As a final step, the resampled data will be saved"
   ]
  },
  {
   "cell_type": "code",
   "execution_count": null,
   "id": "8d8ea9d0",
   "metadata": {},
   "outputs": [],
   "source": [
    "raw_resampled.save(raw_resampled_fname, overwrite=True)"
   ]
  },
  {
   "cell_type": "markdown",
   "id": "633b11a9",
   "metadata": {},
   "source": [
    "To verify that the data has been resampled write"
   ]
  },
  {
   "cell_type": "code",
   "execution_count": null,
   "id": "1626dbe3",
   "metadata": {},
   "outputs": [],
   "source": [
    "print(raw_resampled.info)"
   ]
  },
  {
   "cell_type": "markdown",
   "id": "6620befc",
   "metadata": {},
   "source": [
    "From now we will be working on the resampled data. Data with the 5000 Hz sample rate can he archived as they now longer will be used."
   ]
  },
  {
   "cell_type": "markdown",
   "id": "8fc9f222",
   "metadata": {},
   "source": [
    "## Converting to MEG BIDS format"
   ]
  },
  {
   "cell_type": "markdown",
   "id": "61a5e4e6",
   "metadata": {},
   "source": [
    "Read in the resampled data"
   ]
  },
  {
   "cell_type": "code",
   "execution_count": null,
   "id": "cd44a0c4",
   "metadata": {},
   "outputs": [],
   "source": [
    "del raw, raw_resampled\n",
    "raw = mne.io.read_raw(raw_resampled_fname)"
   ]
  },
  {
   "cell_type": "markdown",
   "id": "8559c43d",
   "metadata": {},
   "source": [
    "### Finding triggers and write a FIF file\n",
    "\n",
    "The BIDS data will include trigger information. As a first step all the events extract from the trigger channel and also included in an additional FIF file."
   ]
  },
  {
   "cell_type": "code",
   "execution_count": null,
   "id": "a03e6367-ce8a-47f9-b178-5e5453d8af98",
   "metadata": {},
   "outputs": [],
   "source": [
    "events = mne.find_events(raw, stim_channel=\"di32\")\n",
    "mne.write_events(event_fname, events, overwrite=True)"
   ]
  },
  {
   "cell_type": "markdown",
   "id": "177e2481",
   "metadata": {},
   "source": [
    "### Naming the events according to trigger information"
   ]
  },
  {
   "cell_type": "markdown",
   "id": "d4751157",
   "metadata": {},
   "source": [
    "The trigger values will now be assigned labels. This will be dependent on specific design of the study and care should be\n",
    "taken to assing informative labels."
   ]
  },
  {
   "cell_type": "code",
   "execution_count": null,
   "id": "a4321498",
   "metadata": {},
   "outputs": [],
   "source": [
    "event_dict = {\n",
    "    \"cue_right\": 1,\n",
    "    \"cue_left\": 2,\n",
    "    \"trial_start\":300,\n",
    "    \"stim_onset\":400,\n",
    "    \"catch_onset\":500,\n",
    "    \"dot_right\": 6,\n",
    "    \"dot_left\": 7,\n",
    "    \"resp\": 800,\n",
    "    \"blk_start\": 900,\n",
    "    \"blk_end\":1000,\n",
    "    \"exp_end\":1100,\n",
    "    \"cue_noresp\":1300\n",
    "}"
   ]
  },
  {
   "cell_type": "markdown",
   "id": "2da8e8bf",
   "metadata": {},
   "source": [
    "### Writing the BIDS file\n",
    "\n",
    "For the BIDS conversion several parameters needs to be defined according to the subjection and session. Subsequently the BIDS structure can be written."
   ]
  },
  {
   "cell_type": "code",
   "execution_count": null,
   "id": "15fbf4b6",
   "metadata": {},
   "outputs": [],
   "source": [
    "raw.info[\"line_freq\"] = 50\n",
    "\n",
    "subject = '01'\n",
    "session = '01'\n",
    "task = 'SpAtt'\n",
    "run = '01'\n",
    "\n",
    "bids_path = BIDSPath(\n",
    "    subject=subject, \n",
    "    session=session, \n",
    "    task=task, \n",
    "    run=run, \n",
    "    datatype=\"meg\", \n",
    "    root=bids_folder\n",
    ")\n",
    "write_raw_bids(\n",
    "    raw=raw,\n",
    "    bids_path=bids_path,\n",
    "    events=event_fname,\n",
    "    event_id=event_dict,\n",
    "    overwrite=True,\n",
    ")"
   ]
  },
  {
   "cell_type": "markdown",
   "id": "64ff5e2f",
   "metadata": {},
   "source": [
    "As last check print the structure of the BIDS file"
   ]
  },
  {
   "cell_type": "code",
   "execution_count": null,
   "id": "b7176ba3",
   "metadata": {},
   "outputs": [],
   "source": [
    "print_dir_tree(bids_folder)"
   ]
  },
  {
   "cell_type": "markdown",
   "id": "8bc52cde",
   "metadata": {},
   "source": [
    "## References\n",
    "Niso G, Gorgolewski KJ, Bock E, Brooks TL, Flandin G, Gramfort A, Henson RN, Jas M, Litvak V, T Moreau J, Oostenveld R, Schoffelen JM, Tadel F, Wexler J, Baillet S. MEG-BIDS, the brain imaging data structure extended to magnetoencephalography (2018) Sci Data 5:180110. doi: 10.1038/sdata.2018.110.\n",
    "\n",
    "Smith SW (1998) The Scientist and Engineer's Guide to Digital Signal Processing. California Technical Pub https://www.dspguide.com/pdfbook.htm\n"
   ]
  },
  {
   "cell_type": "code",
   "execution_count": null,
   "id": "6632a2e2",
   "metadata": {},
   "outputs": [],
   "source": []
  }
 ],
 "metadata": {
  "kernelspec": {
   "display_name": "Python 3 (ipykernel)",
   "language": "python",
   "name": "python3"
  },
  "language_info": {
   "codemirror_mode": {
    "name": "ipython",
    "version": 3
   },
   "file_extension": ".py",
   "mimetype": "text/x-python",
   "name": "python",
   "nbconvert_exporter": "python",
   "pygments_lexer": "ipython3",
   "version": "3.12.4"
  }
 },
 "nbformat": 4,
 "nbformat_minor": 5
}
