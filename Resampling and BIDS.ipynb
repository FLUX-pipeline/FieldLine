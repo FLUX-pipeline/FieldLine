{
 "cells": [
  {
   "cell_type": "markdown",
   "id": "7d87e7ed-e852-4645-86f7-b82ccd69bf5e",
   "metadata": {},
   "source": [
    "# Downsampling and BIDS conversion\n",
    "\n",
    "## Introduction\n",
    "\n",
    "In this section we will demonstrate how to prepare the data for further analysis. As the FieldLine data are sampled at 5000 Hz the first step is to downsample to 1000 Hz. Subsequenctly we will convert the data to MEG BIDS (Niso et al., 2018). BIDS (Brain Imaging Data Structure) is a standardised format for organising and describing neuroimaging datasets. Built around straightforward file formats and folder structures, BIDS ensures that the meta data are present and that the file structure is consistent over data sets. \n",
    "\n",
    "## Preparation\n",
    "\n",
    "Import the required modules:"
   ]
  },
  {
   "cell_type": "code",
   "execution_count": null,
   "id": "77d672a5-6bac-4781-ac0a-cb5a0345112c",
   "metadata": {},
   "outputs": [],
   "source": [
    "import json\n",
    "import os\n",
    "import array\n",
    "import sys\n",
    "\n",
    "import numpy as np\n",
    "import pandas as pd\n",
    "\n",
    "import matplotlib.pyplot as plt\n",
    "import mne\n",
    "from mne_bids import (\n",
    "    BIDSPath,\n",
    "    make_dataset_description,\n",
    "    print_dir_tree,\n",
    "    read_raw_bids,\n",
    "    write_meg_calibration,\n",
    "    write_meg_crosstalk,\n",
    "    write_raw_bids,\n",
    ")\n",
    "from mne_bids.stats import count_events"
   ]
  },
  {
   "cell_type": "markdown",
   "id": "8946c8be",
   "metadata": {},
   "source": [
    "### File overview\n",
    "\n",
    "The chapter relies on the input files:\n",
    "~~~\n",
    "<ROOT>/Rec15.fif\n",
    "~~~ \n",
    "and generate the out files:\n",
    "~~~\n",
    "<ROOT>/Rec15_fs.fif\n",
    "<ROOT>/Rec15_event.fif\n",
    "\n",
    "<ROOT/BIDSRec15/FILE1\n",
    "<ROOT/BIDSRec15/FILE2\n",
    "~~~"
   ]
  },
  {
   "cell_type": "markdown",
   "id": "28dbcfb9-27d2-4cd6-a57b-219e9b6bc393",
   "metadata": {},
   "source": [
    "### Loading the data\n",
    "\n",
    "The FieldLine data are stored in FIF format which is a binary file structure with embedded lables.\n",
    "\n",
    "As a first step we will load the data. Make sure the data_data path is set to where the data are stored. We will also define the name of the resampled data with 'rs' added to the filename ( <a>  *_rs.fif  </a>).\n"
   ]
  },
  {
   "cell_type": "code",
   "execution_count": null,
   "id": "6ed39f27-c5ad-41ca-bd82-d1e3e4dfe7ad",
   "metadata": {},
   "outputs": [
    {
     "name": "stdout",
     "output_type": "stream",
     "text": [
      "Opening raw data file /home/rakshita/rds_folders/Sproject3/EmptyRoom/Recordings/Rec15.fif...\n"
     ]
    },
    {
     "name": "stderr",
     "output_type": "stream",
     "text": [
      "/tmp/ipykernel_5812/303311391.py:5: RuntimeWarning: This filename (/home/rakshita/rds_folders/Sproject3/EmptyRoom/Recordings/Rec15.fif) does not conform to MNE naming conventions. All raw files should end with raw.fif, raw_sss.fif, raw_tsss.fif, _meg.fif, _eeg.fif, _ieeg.fif, raw.fif.gz, raw_sss.fif.gz, raw_tsss.fif.gz, _meg.fif.gz, _eeg.fif.gz or _ieeg.fif.gz\n",
      "  raw = mne.io.read_raw_fif(raw_fname, preload=True);\n"
     ]
    },
    {
     "name": "stdout",
     "output_type": "stream",
     "text": [
      "Isotrak not found\n",
      "    Range : 0 ... 1003199 =      0.000 ...   200.640 secs\n",
      "Ready.\n",
      "Reading 0 ... 1003199  =      0.000 ...   200.640 secs...\n"
     ]
    }
   ],
   "source": [
    "data_path = '/home/rakshita/rds_folders/Sproject3/EmptyRoom/Recordings'\n",
    "file_name = 'Rec15.fif'\n",
    "raw_fname = os.path.join(data_path, file_name)\n",
    "\n",
    "raw = mne.io.read_raw_fif(raw_fname, preload=True);\n",
    "raw_rest_fname = raw_fname.replace('.fif', f'_rs.fif')\n",
    "\n",
    "event_fname = raw_fname.replace('.fif', f'_event.fif')\n",
    "\n",
    "bids_folder = os.path.join(data_path, \"BIDSRec15_03\")  "
   ]
  },
  {
   "cell_type": "markdown",
   "id": "f0d130ba-22fd-44de-9fdf-ba353c2defbb",
   "metadata": {},
   "source": [
    "# Lowpass filtering and resampling\n",
    "\n",
    "The data will now be resampled to 1000 Hz. Prior to resampling data will be lowpass filtered at 1000 Hz/4 = 250 Hz. The downsample is done to avoid alias problems (see Smith 1998, chapter 3). After the lowpass filtering the data are resampled to the desired frequency. "
   ]
  },
  {
   "cell_type": "code",
   "execution_count": 25,
   "id": "836b5c86-65c1-4315-8c1b-5a1f8346dd5d",
   "metadata": {},
   "outputs": [
    {
     "name": "stdout",
     "output_type": "stream",
     "text": [
      "Filtering raw data in 1 contiguous segment\n",
      "Setting up low-pass filter at 2.5e+02 Hz\n",
      "\n",
      "FIR filter parameters\n",
      "---------------------\n",
      "Designing a one-pass, zero-phase, non-causal lowpass filter:\n",
      "- Windowed time-domain design (firwin) method\n",
      "- Hamming window with 0.0194 passband ripple and 53 dB stopband attenuation\n",
      "- Upper passband edge: 250.00 Hz\n",
      "- Upper transition bandwidth: 62.50 Hz (-6 dB cutoff frequency: 281.25 Hz)\n",
      "- Filter length: 265 samples (0.053 s)\n",
      "\n"
     ]
    },
    {
     "name": "stderr",
     "output_type": "stream",
     "text": [
      "[Parallel(n_jobs=1)]: Done  17 tasks      | elapsed:    0.4s\n"
     ]
    },
    {
     "name": "stdout",
     "output_type": "stream",
     "text": [
      "99 events found on stim channel di32\n",
      "Event IDs: [   1    2    6    7  300  400  500  800  900 1000 1100 1300]\n"
     ]
    },
    {
     "name": "stderr",
     "output_type": "stream",
     "text": [
      "[Parallel(n_jobs=1)]: Done  71 tasks      | elapsed:    1.5s\n",
      "[Parallel(n_jobs=1)]: Done  71 tasks      | elapsed:    1.5s\n"
     ]
    },
    {
     "name": "stdout",
     "output_type": "stream",
     "text": [
      "99 events found on stim channel di32\n",
      "Event IDs: [   1    2    6    7  300  400  500  800  900 1000 1100 1300]\n"
     ]
    },
    {
     "data": {
      "text/html": [
       "<details open>\n",
       "    <summary><strong>General</strong></summary>\n",
       "    <table class=\"table table-hover table-striped table-sm table-responsive small\">\n",
       "        <tr>\n",
       "            <th>Measurement date</th>\n",
       "            \n",
       "            <td>September 26, 2024  10:28:45 GMT</td>\n",
       "            \n",
       "        </tr>\n",
       "        <tr>\n",
       "            <th>Experimenter</th>\n",
       "            \n",
       "            <td>Unknown</td>\n",
       "            \n",
       "        </tr>\n",
       "        <tr>\n",
       "            <th>Participant</th>\n",
       "            \n",
       "            <td>Unknown</td>\n",
       "            \n",
       "        </tr>\n",
       "    </table>\n",
       "    </details>\n",
       "    <details open>\n",
       "        <summary><strong>Channels</strong></summary>\n",
       "        <table class=\"table table-hover table-striped table-sm table-responsive small\">\n",
       "            <tr>\n",
       "                <th>Digitized points</th>\n",
       "                \n",
       "                <td>Not available</td>\n",
       "                \n",
       "            </tr>\n",
       "            <tr>\n",
       "                <th>Good channels</th>\n",
       "                <td>71 Magnetometers, 1 Stimulus</td>\n",
       "            </tr>\n",
       "            <tr>\n",
       "                <th>Bad channels</th>\n",
       "                <td>None</td>\n",
       "            </tr>\n",
       "            <tr>\n",
       "                <th>EOG channels</th>\n",
       "                <td>Not available</td>\n",
       "            </tr>\n",
       "            <tr>\n",
       "                <th>ECG channels</th>\n",
       "                <td>Not available</td>\n",
       "            </tr>\n",
       "        </table>\n",
       "        </details>\n",
       "        <details open>\n",
       "            <summary><strong>Data</strong></summary>\n",
       "            <table class=\"table table-hover table-striped table-sm table-responsive small\">\n",
       "                \n",
       "                <tr>\n",
       "                    <th>Sampling frequency</th>\n",
       "                    <td>1000.00 Hz</td>\n",
       "                </tr>\n",
       "                \n",
       "                \n",
       "                <tr>\n",
       "                    <th>Highpass</th>\n",
       "                    <td>0.00 Hz</td>\n",
       "                </tr>\n",
       "                \n",
       "                \n",
       "                <tr>\n",
       "                    <th>Lowpass</th>\n",
       "                    <td>250.00 Hz</td>\n",
       "                </tr>\n",
       "                \n",
       "                \n",
       "                \n",
       "                <tr>\n",
       "                    <th>Filenames</th>\n",
       "                    <td>Rec15.fif</td>\n",
       "                </tr>\n",
       "                \n",
       "                \n",
       "                <tr>\n",
       "                    <th>Duration</th>\n",
       "                    <td>00:03:21 (HH:MM:SS)</td>\n",
       "                </tr>\n",
       "                \n",
       "            </table>\n",
       "            </details>"
      ],
      "text/plain": [
       "<Raw | Rec15.fif, 72 x 200640 (200.6 s), ~110.3 MB, data loaded>"
      ]
     },
     "execution_count": 25,
     "metadata": {},
     "output_type": "execute_result"
    }
   ],
   "source": [
    "desired_sfreq = 1000  \n",
    "current_sfreq = raw.info['sfreq']\n",
    "\n",
    "lowpass_freq = desired_sfreq / 4.0\n",
    "raw_rs = raw.copy().filter(l_freq=None, h_freq=lowpass_freq)\n",
    "\n",
    "raw_rs.resample(sfreq = desired_sfreq)"
   ]
  },
  {
   "cell_type": "markdown",
   "id": "171adcef",
   "metadata": {},
   "source": [
    "##### As a final step, the resampled data will be saved"
   ]
  },
  {
   "cell_type": "code",
   "execution_count": null,
   "id": "8d8ea9d0",
   "metadata": {},
   "outputs": [
    {
     "name": "stdout",
     "output_type": "stream",
     "text": [
      "Overwriting existing file.\n",
      "Writing /home/rakshita/rds_folders/Sproject3/EmptyRoom/Recordings/Rec15_rs.fif\n",
      "Closing /home/rakshita/rds_folders/Sproject3/EmptyRoom/Recordings/Rec15_rs.fif\n"
     ]
    },
    {
     "name": "stderr",
     "output_type": "stream",
     "text": [
      "/tmp/ipykernel_5812/1843415829.py:1: RuntimeWarning: This filename (/home/rakshita/rds_folders/Sproject3/EmptyRoom/Recordings/Rec15_rs.fif) does not conform to MNE naming conventions. All raw files should end with raw.fif, raw_sss.fif, raw_tsss.fif, _meg.fif, _eeg.fif, _ieeg.fif, raw.fif.gz, raw_sss.fif.gz, raw_tsss.fif.gz, _meg.fif.gz, _eeg.fif.gz or _ieeg.fif.gz\n",
      "  raw_rs.save(rawrs_fname, overwrite=True)\n"
     ]
    },
    {
     "name": "stdout",
     "output_type": "stream",
     "text": [
      "[done]\n"
     ]
    }
   ],
   "source": [
    "raw_rs.save(raw_rest_fname, overwrite=True)"
   ]
  },
  {
   "cell_type": "markdown",
   "id": "633b11a9",
   "metadata": {},
   "source": [
    "To verify that the data has been resampled write"
   ]
  },
  {
   "cell_type": "code",
   "execution_count": 27,
   "id": "1626dbe3",
   "metadata": {},
   "outputs": [
    {
     "name": "stdout",
     "output_type": "stream",
     "text": [
      "<Info | 15 non-empty values\n",
      " bads: []\n",
      " ch_names: L108_bz-s1, L208_bz-s65, L115_bz-s2, R504_bz-s66, R508_bz-s3, ...\n",
      " chs: 71 Magnetometers, 1 Stimulus\n",
      " custom_ref_applied: False\n",
      " description: {\"chassis\":{\"version\":\"0.8.3- ...\n",
      " file_id: 4 items (dict)\n",
      " gantry_angle: 0.0\n",
      " highpass: 0.0 Hz\n",
      " line_freq: 0.0\n",
      " lowpass: 250.0 Hz\n",
      " meas_date: 2024-09-26 10:28:45 UTC\n",
      " meas_id: 4 items (dict)\n",
      " nchan: 72\n",
      " proj_id: 1 item (ndarray)\n",
      " proj_name: Emptyroom\n",
      " projs: []\n",
      " sfreq: 1000.0 Hz\n",
      " xplotter_layout: None\n",
      ">\n"
     ]
    }
   ],
   "source": [
    "print(raw_rs.info)"
   ]
  },
  {
   "cell_type": "markdown",
   "id": "6620befc",
   "metadata": {},
   "source": [
    "From now we will be working on the resampled data. Data with the 5000 Hz sample rate can he archived as they now longer will be used. "
   ]
  },
  {
   "cell_type": "markdown",
   "id": "8fc9f222",
   "metadata": {},
   "source": [
    "## Converting to MEG BIDS format"
   ]
  },
  {
   "cell_type": "markdown",
   "id": "61a5e4e6",
   "metadata": {},
   "source": [
    "Read in the resampled data"
   ]
  },
  {
   "cell_type": "code",
   "execution_count": null,
   "id": "cd44a0c4",
   "metadata": {},
   "outputs": [
    {
     "name": "stdout",
     "output_type": "stream",
     "text": [
      "Opening raw data file /home/rakshita/rds_folders/Sproject3/EmptyRoom/Recordings/Rec15_rs.fif...\n"
     ]
    },
    {
     "name": "stderr",
     "output_type": "stream",
     "text": [
      "/tmp/ipykernel_5812/815680071.py:2: RuntimeWarning: This filename (/home/rakshita/rds_folders/Sproject3/EmptyRoom/Recordings/Rec15_rs.fif) does not conform to MNE naming conventions. All raw files should end with raw.fif, raw_sss.fif, raw_tsss.fif, _meg.fif, _eeg.fif, _ieeg.fif, raw.fif.gz, raw_sss.fif.gz, raw_tsss.fif.gz, _meg.fif.gz, _eeg.fif.gz or _ieeg.fif.gz\n",
      "  raw = mne.io.read_raw(rawrs_fname)\n"
     ]
    },
    {
     "name": "stdout",
     "output_type": "stream",
     "text": [
      "Isotrak not found\n",
      "    Range : 0 ... 200639 =      0.000 ...   200.639 secs\n",
      "Ready.\n"
     ]
    }
   ],
   "source": [
    "del raw, raw_rs\n",
    "raw = mne.io.read_raw(raw_rest_fname)"
   ]
  },
  {
   "cell_type": "markdown",
   "id": "8559c43d",
   "metadata": {},
   "source": [
    "### Finding triggers and write a FIF file\n",
    "\n",
    "The BIDS data will include trigger information. As a first step all the events extract from the trigger channel and also included in an additional FIF file. \n"
   ]
  },
  {
   "cell_type": "code",
   "execution_count": null,
   "id": "a03e6367-ce8a-47f9-b178-5e5453d8af98",
   "metadata": {},
   "outputs": [
    {
     "name": "stdout",
     "output_type": "stream",
     "text": [
      "99 events found on stim channel di32\n",
      "Event IDs: [   1    2    6    7  300  400  500  800  900 1000 1100 1300]\n",
      "Overwriting existing file.\n"
     ]
    },
    {
     "name": "stderr",
     "output_type": "stream",
     "text": [
      "/tmp/ipykernel_5812/426940137.py:2: RuntimeWarning: This filename (/home/rakshita/rds_folders/Sproject3/EmptyRoom/Recordings/Rec15_event.fif) does not conform to MNE naming conventions. All events files should end with .eve, -eve.fif, -eve.fif.gz, -eve.lst, -eve.txt, _eve.fif, _eve.fif.gz, _eve.lst or _eve.txt\n",
      "  mne.write_events(event_fname,events,overwrite=True)\n"
     ]
    }
   ],
   "source": [
    "events = mne.find_events(raw, stim_channel=\"di32\")\n",
    "mne.write_events(event_fname, events, overwrite=True)"
   ]
  },
  {
   "cell_type": "markdown",
   "id": "177e2481",
   "metadata": {},
   "source": [
    "### Naming the events according to trigger information"
   ]
  },
  {
   "cell_type": "markdown",
   "id": "d4751157",
   "metadata": {},
   "source": [
    "The trigger values will now be assigned labels. This will be dependent on specific design of the study and care should be\n",
    "taken to assing informative labels."
   ]
  },
  {
   "cell_type": "code",
   "execution_count": null,
   "id": "a4321498",
   "metadata": {},
   "outputs": [],
   "source": [
    "event_dict = {\n",
    "    \"cue_right\": 1,\n",
    "    \"cue_left\": 2,\n",
    "    \"trial_start\":300,\n",
    "    \"stim_onset\":400,\n",
    "    \"catch_onset\":500,\n",
    "    \"dot_right\": 6,\n",
    "    \"dot_left\": 7,\n",
    "    \"resp\": 800,\n",
    "    \"blk_start\": 900,\n",
    "    \"blk_end\":1000,\n",
    "    \"exp_end\":1100,\n",
    "    \"cue_noresp\":1300\n",
    "}"
   ]
  },
  {
   "cell_type": "markdown",
   "id": "2da8e8bf",
   "metadata": {},
   "source": [
    "### Writing the BIDS file\n",
    "\n",
    "For the BIDS conversion several parameters needs to be defined according to the subjection and session. Subsequently the BIDS structure can be written."
   ]
  },
  {
   "cell_type": "code",
   "execution_count": null,
   "id": "15fbf4b6",
   "metadata": {},
   "outputs": [
    {
     "name": "stdout",
     "output_type": "stream",
     "text": [
      "Opening raw data file /home/rakshita/rds_folders/Sproject3/EmptyRoom/Recordings/Rec15_rs.fif...\n"
     ]
    },
    {
     "name": "stderr",
     "output_type": "stream",
     "text": [
      "/tmp/ipykernel_5812/2831929378.py:11: RuntimeWarning: This filename (/home/rakshita/rds_folders/Sproject3/EmptyRoom/Recordings/Rec15_rs.fif) does not conform to MNE naming conventions. All raw files should end with raw.fif, raw_sss.fif, raw_tsss.fif, _meg.fif, _eeg.fif, _ieeg.fif, raw.fif.gz, raw_sss.fif.gz, raw_tsss.fif.gz, _meg.fif.gz, _eeg.fif.gz or _ieeg.fif.gz\n",
      "  write_raw_bids(\n"
     ]
    },
    {
     "name": "stdout",
     "output_type": "stream",
     "text": [
      "Isotrak not found\n",
      "    Range : 0 ... 200639 =      0.000 ...   200.639 secs\n",
      "Ready.\n",
      "Writing '/home/rakshita/rds_folders/Sproject3/EmptyRoom/Recordings/BIDSRec15_03/README'...\n",
      "Writing '/home/rakshita/rds_folders/Sproject3/EmptyRoom/Recordings/BIDSRec15_03/participants.tsv'...\n",
      "Writing '/home/rakshita/rds_folders/Sproject3/EmptyRoom/Recordings/BIDSRec15_03/participants.json'...\n",
      "Writing '/home/rakshita/rds_folders/Sproject3/EmptyRoom/Recordings/BIDSRec15_03/sub-01/ses-01/meg/sub-01_ses-01_coordsystem.json'...\n",
      "Writing '/home/rakshita/rds_folders/Sproject3/EmptyRoom/Recordings/BIDSRec15_03/sub-01/ses-01/meg/sub-01_ses-01_coordsystem.json'...\n",
      "Used Annotations descriptions: ['blkend', 'blkstart', 'catchonset', 'cue/left', 'cue/noresp', 'cue/right', 'dot/left', 'dot/right', 'expend', 'resp', 'stimonset', 'trialstart']\n",
      "Writing '/home/rakshita/rds_folders/Sproject3/EmptyRoom/Recordings/BIDSRec15_03/sub-01/ses-01/meg/sub-01_ses-01_task-SpAtt_run-1_events.tsv'...\n",
      "Writing '/home/rakshita/rds_folders/Sproject3/EmptyRoom/Recordings/BIDSRec15_03/sub-01/ses-01/meg/sub-01_ses-01_task-SpAtt_run-1_events.json'...\n",
      "Writing '/home/rakshita/rds_folders/Sproject3/EmptyRoom/Recordings/BIDSRec15_03/dataset_description.json'...\n",
      "Writing '/home/rakshita/rds_folders/Sproject3/EmptyRoom/Recordings/BIDSRec15_03/sub-01/ses-01/meg/sub-01_ses-01_task-SpAtt_run-1_meg.json'...\n",
      "Writing '/home/rakshita/rds_folders/Sproject3/EmptyRoom/Recordings/BIDSRec15_03/sub-01/ses-01/meg/sub-01_ses-01_task-SpAtt_run-1_channels.tsv'...\n",
      "Copying data files to sub-01_ses-01_task-SpAtt_run-1_meg.fif\n",
      "Reserving possible split file sub-01_ses-01_task-SpAtt_run-1_split-01_meg.fif\n",
      "Writing /home/rakshita/rds_folders/Sproject3/EmptyRoom/Recordings/BIDSRec15_03/sub-01/ses-01/meg/sub-01_ses-01_task-SpAtt_run-1_meg.fif\n"
     ]
    },
    {
     "name": "stderr",
     "output_type": "stream",
     "text": [
      "/tmp/ipykernel_5812/2831929378.py:11: RuntimeWarning: This filename (/home/rakshita/rds_folders/Sproject3/EmptyRoom/Recordings/Rec15_event.fif) does not conform to MNE naming conventions. All events files should end with .eve, -eve.fif, -eve.fif.gz, -eve.lst, -eve.txt, _eve.fif, _eve.fif.gz, _eve.lst, _eve.txt or -annot.fif\n",
      "  write_raw_bids(\n"
     ]
    },
    {
     "name": "stdout",
     "output_type": "stream",
     "text": [
      "Closing /home/rakshita/rds_folders/Sproject3/EmptyRoom/Recordings/BIDSRec15_03/sub-01/ses-01/meg/sub-01_ses-01_task-SpAtt_run-1_meg.fif\n",
      "[done]\n",
      "Writing '/home/rakshita/rds_folders/Sproject3/EmptyRoom/Recordings/BIDSRec15_03/sub-01/ses-01/sub-01_ses-01_scans.tsv'...\n",
      "Wrote /home/rakshita/rds_folders/Sproject3/EmptyRoom/Recordings/BIDSRec15_03/sub-01/ses-01/sub-01_ses-01_scans.tsv entry with meg/sub-01_ses-01_task-SpAtt_run-1_meg.fif.\n"
     ]
    },
    {
     "data": {
      "text/plain": [
       "BIDSPath(\n",
       "root: /home/rakshita/rds_folders/Sproject3/EmptyRoom/Recordings/BIDSRec15_03\n",
       "datatype: meg\n",
       "basename: sub-01_ses-01_task-SpAtt_run-1_meg.fif)"
      ]
     },
     "execution_count": 31,
     "metadata": {},
     "output_type": "execute_result"
    }
   ],
   "source": [
    "raw.info[\"line_freq\"] = 50\n",
    "\n",
    "subject = '01'  \n",
    "session = '01'  \n",
    "task = 'SpAtt'\n",
    "run = '01'\n",
    "\n",
    "bids_path = BIDSPath(\n",
    "    subject=subject, \n",
    "    session=session, \n",
    "    task=task, \n",
    "    run=run, \n",
    "    datatype=\"meg\", \n",
    "    root=bids_folder\n",
    ")\n",
    "write_raw_bids(\n",
    "    raw=raw,\n",
    "    bids_path=bids_path,\n",
    "    events=event_fname,\n",
    "    event_id=event_dict,\n",
    "    #empty_room=raw_er,\n",
    "    overwrite=True,\n",
    ")"
   ]
  },
  {
   "cell_type": "markdown",
   "id": "64ff5e2f",
   "metadata": {},
   "source": [
    "As last check print the structure of the BIDS file"
   ]
  },
  {
   "cell_type": "code",
   "execution_count": null,
   "id": "b7176ba3",
   "metadata": {},
   "outputs": [
    {
     "name": "stdout",
     "output_type": "stream",
     "text": [
      "|BIDSRec15_03/\n",
      "|--- README\n",
      "|--- dataset_description.json\n",
      "|--- participants.json\n",
      "|--- participants.tsv\n",
      "|--- sub-01/\n",
      "|------ ses-01/\n",
      "|--------- sub-01_ses-01_scans.tsv\n",
      "|--------- meg/\n",
      "|------------ sub-01_ses-01_coordsystem.json\n",
      "|------------ sub-01_ses-01_task-SpAtt_run-1_channels.tsv\n",
      "|------------ sub-01_ses-01_task-SpAtt_run-1_events.json\n",
      "|------------ sub-01_ses-01_task-SpAtt_run-1_events.tsv\n",
      "|------------ sub-01_ses-01_task-SpAtt_run-1_meg.fif\n",
      "|------------ sub-01_ses-01_task-SpAtt_run-1_meg.json\n"
     ]
    }
   ],
   "source": [
    "print_dir_tree(bids_folder)"
   ]
  },
  {
   "cell_type": "markdown",
   "id": "8bc52cde",
   "metadata": {},
   "source": [
    "## References \n",
    "Niso G, Gorgolewski KJ, Bock E, Brooks TL, Flandin G, Gramfort A, Henson RN, Jas M, Litvak V, T Moreau J, Oostenveld R, Schoffelen JM, Tadel F, Wexler J, Baillet S. MEG-BIDS, the brain imaging data structure extended to magnetoencephalography (2018) Sci Data 5:180110. doi: 10.1038/sdata.2018.110.\n",
    "\n",
    "Smith SW (1998) The Scientist and Engineer's Guide to Digital Signal Processing. California Technical Pub https://www.dspguide.com/pdfbook.htm\n"
   ]
  },
  {
   "cell_type": "code",
   "execution_count": null,
   "id": "6632a2e2",
   "metadata": {},
   "outputs": [],
   "source": []
  }
 ],
 "metadata": {
  "kernelspec": {
   "display_name": "Python 3 (ipykernel)",
   "language": "python",
   "name": "python3"
  },
  "language_info": {
   "codemirror_mode": {
    "name": "ipython",
    "version": 3
   },
   "file_extension": ".py",
   "mimetype": "text/x-python",
   "name": "python",
   "nbconvert_exporter": "python",
   "pygments_lexer": "ipython3",
   "version": "3.12.4"
  }
 },
 "nbformat": 4,
 "nbformat_minor": 5
}
